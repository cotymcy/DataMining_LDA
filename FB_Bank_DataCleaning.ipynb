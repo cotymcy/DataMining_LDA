{
 "cells": [
  {
   "cell_type": "markdown",
   "id": "13871957",
   "metadata": {},
   "source": [
    "## Library"
   ]
  },
  {
   "cell_type": "code",
   "execution_count": null,
   "id": "813b12b3",
   "metadata": {},
   "outputs": [],
   "source": [
    "%matplotlib inline\n",
    "import pandas as pd\n",
    "import numpy as np\n",
    "import datetime as dt\n",
    "import re, string\n",
    "from wordcloud import WordCloud\n",
    "import pycantonese\n",
    "import jieba, emoji\n",
    "import matplotlib.pyplot as plt\n",
    "import pyLDAvis\n",
    "import pyLDAvis.gensim_models\n",
    "import pyLDAvis.sklearn\n",
    "from nltk.corpus import stopwords\n",
    "from zhon.hanzi import punctuation\n",
    "from sklearn.feature_extraction.text import TfidfVectorizer, CountVectorizer\n",
    "from sklearn.decomposition import LatentDirichletAllocation\n",
    "from gensim import corpora, models, similarities\n",
    "from gensim.test.utils import common_texts\n",
    "from gensim.corpora.dictionary import Dictionary\n",
    "from gensim.test.utils import datapath"
   ]
  },
  {
   "cell_type": "code",
   "execution_count": null,
   "id": "2a40ff30",
   "metadata": {},
   "outputs": [],
   "source": [
    "# index\n",
    "dt_now = str(dt.datetime.now())\n",
    "dt_now = dt_now.replace(\"-\",\"\").replace(\":\",\"\").replace(\" \",\"\")\n",
    "dt_now = dt_now[0:14]"
   ]
  },
  {
   "cell_type": "markdown",
   "id": "b191fa4f",
   "metadata": {},
   "source": [
    "message, from, created_time, shares, comments.limit(0).summary(1), reactions.limit(0).summary(1), reactions.type(LIKE).limit(0).summary(1).as(like), reactions.type(LOVE).limit(0).summary(1).as(love), reactions.type(HAHA).limit(0).summary(1).as(haha), reactions.type(WOW).limit(0).summary(1).as(wow), reactions.type(SAD).limit(0).summary(1).as(sad), reactions.type(ANGRY).limit(0).summary(1).as(angry)"
   ]
  },
  {
   "cell_type": "code",
   "execution_count": null,
   "id": "476463e8",
   "metadata": {},
   "outputs": [],
   "source": [
    "# import json # import csv # from nltk.corpus import stopwords\n",
    "\n",
    "# # Drop not-using columns\n",
    "# not_using_col = [\"id\", \"parent_id\", \"level\", \"object_id\", \"query_status\", \"query_time\", \"query_type\",\n",
    "#                 \"paging.cursors.before\", \"paging.cursors.after\", \"paging.next\", \"reactions.summary.viewer_reaction\",\n",
    "#                 \"sad.summary.viewer_reaction\", \"angry.data\", \"angry.summary.viewer_reaction\", \"updated_time\", \"error.message\",\n",
    "#                 \"reactions.data\", \"id.1\", \"like.summary.total_count\", \"like.summary.viewer_reaction\", \"sad.data\",\n",
    "#                 \"error.type\", \"error.code\", \"error.fbtrace_id\", \"from.name\", \"from.id\", \"like.data\", \"object_key\", \n",
    "#                 \"object_type\", \"reactions.summary.total_count\", \"sad.summary.total_count\", \"angry.summary.total_count\"]\n",
    "# df.drop(columns = not_using_col, inplace=True)"
   ]
  },
  {
   "cell_type": "markdown",
   "id": "5442209e",
   "metadata": {},
   "source": [
    "## 1. Clean df"
   ]
  },
  {
   "cell_type": "code",
   "execution_count": null,
   "id": "20eff644",
   "metadata": {},
   "outputs": [],
   "source": [
    "#*********************************\n",
    "Bank_name = 'ZA'\n",
    "#*********************************\n",
    "\n",
    "Filename = f'{Bank_name}_Facebook_Bank.csv'\n",
    "New_Filename = f'Final_{Bank_name}_Facebook.csv'\n",
    "\n",
    "df = pd.read_csv(f'Collected_data/FB_Weibo_Bank/{Filename}', header=0, encoding =\"utf-8-sig\")"
   ]
  },
  {
   "cell_type": "code",
   "execution_count": null,
   "id": "ef62bcb8",
   "metadata": {},
   "outputs": [],
   "source": [
    "# Drop non-data and NaN messages\n",
    "drop_index = df[df.object_type != \"data\"].index\n",
    "df.drop(axis = 0, index = drop_index, inplace = True)\n",
    "\n",
    "drop_index = df[df.message.isna()].index\n",
    "df.drop(axis = 0, index = drop_index, inplace = True)"
   ]
  },
  {
   "cell_type": "code",
   "execution_count": null,
   "id": "05bfe897",
   "metadata": {},
   "outputs": [],
   "source": [
    "def na_to_zero(column):\n",
    "    return column.replace(np.nan,\"0\").apply(lambda x: int(x))"
   ]
  },
  {
   "cell_type": "code",
   "execution_count": null,
   "id": "76b59a4e",
   "metadata": {},
   "outputs": [],
   "source": [
    "# Replace NaN with zero\n",
    "# Change of column type to int\n",
    "col_to_transform = [\"shares.count\", \"comment_count\", \"like_count\", \"comments.summary.total_count\",\n",
    "                   \"reactions.summary.total_count\", \"sad.summary.total_count\", \"angry.summary.total_count\"]\n",
    "\n",
    "for i in range(len(col_to_transform)):\n",
    "    df[col_to_transform[i]] = na_to_zero(df[col_to_transform[i]])"
   ]
  },
  {
   "cell_type": "code",
   "execution_count": null,
   "id": "e0259ced",
   "metadata": {},
   "outputs": [],
   "source": [
    "# Categorization of reactions\n",
    "df['pos_reaction'] = (df['reactions.summary.total_count'] + df['like_count']\n",
    "                      - df['sad.summary.total_count'] - df['angry.summary.total_count'])\n",
    "df['neg_reaction'] = df['sad.summary.total_count'] + df['angry.summary.total_count']\n",
    "df['comments'] = df['comment_count'] + df['comments.summary.total_count']\n",
    "\n",
    "df = df.rename(columns = {'shares.count' : 'shares', 'from.name' : 'author'})"
   ]
  },
  {
   "cell_type": "code",
   "execution_count": null,
   "id": "65232a33",
   "metadata": {},
   "outputs": [],
   "source": [
    "# Datetime\n",
    "df[\"created_time\"] = pd.to_datetime(df[\"created_time\"])\n",
    "df[\"date\"] = df[\"created_time\"].apply(lambda x: x.date())\n",
    "df[\"date\"] = pd.to_datetime(df[\"date\"])"
   ]
  },
  {
   "cell_type": "code",
   "execution_count": null,
   "id": "cfd5bac5",
   "metadata": {},
   "outputs": [],
   "source": [
    "df.head(2)"
   ]
  },
  {
   "cell_type": "code",
   "execution_count": null,
   "id": "f89a46cc",
   "metadata": {},
   "outputs": [],
   "source": [
    "# Add bank name\n",
    "df[\"bank\"] = Bank_name"
   ]
  },
  {
   "cell_type": "code",
   "execution_count": null,
   "id": "6f663ac7",
   "metadata": {},
   "outputs": [],
   "source": [
    "df = df.reindex(columns = ['bank','level','id','parent_id','date','author','created_time','message',\n",
    "                           'pos_reaction','neg_reaction','shares','comments'])\n",
    "\n",
    "# Drop duplicate rows\n",
    "df.drop_duplicates(inplace=True)\n",
    "\n",
    "# Reset index\n",
    "df.reset_index(drop=True, inplace=True)"
   ]
  },
  {
   "cell_type": "code",
   "execution_count": null,
   "id": "7c5918b1",
   "metadata": {},
   "outputs": [],
   "source": [
    "df.head(3)"
   ]
  },
  {
   "cell_type": "code",
   "execution_count": null,
   "id": "a7650fe4",
   "metadata": {},
   "outputs": [],
   "source": [
    "# Double-checking\n",
    "display(df[df[\"neg_reaction\"] < 0])\n",
    "display(df[df[\"pos_reaction\"] < 0])"
   ]
  },
  {
   "cell_type": "code",
   "execution_count": null,
   "id": "ff7bcebe",
   "metadata": {
    "scrolled": false
   },
   "outputs": [],
   "source": [
    "df.info()"
   ]
  },
  {
   "cell_type": "code",
   "execution_count": null,
   "id": "1376b338",
   "metadata": {},
   "outputs": [],
   "source": [
    "# df.to_csv(f'Collected_data/FB_Weibo_Bank/{New_Filename}', encoding='utf-8-sig', index=False)"
   ]
  },
  {
   "cell_type": "markdown",
   "id": "4c105bd8",
   "metadata": {},
   "source": [
    "## 2. Concat df"
   ]
  },
  {
   "cell_type": "code",
   "execution_count": null,
   "id": "00b9d76b",
   "metadata": {},
   "outputs": [],
   "source": [
    "df_1 = pd.read_csv('Collected_data/FB_Weibo_Bank/Final_ZA_Facebook.csv', header=0, encoding='utf-8-sig')\n",
    "df_2 = pd.read_csv('Collected_data/FB_Weibo_Bank/Final_AIR_Facebook.csv', header=0, encoding='utf-8-sig')\n",
    "df_3 = pd.read_csv('Collected_data/FB_Weibo_Bank/Final_BEA_Facebook.csv', header=0, encoding='utf-8-sig')\n",
    "df_4 = pd.read_csv('Collected_data/FB_Weibo_Bank/Final_CCB_Facebook.csv', header=0, encoding='utf-8-sig')\n",
    "df_5 = pd.read_csv('Collected_data/FB_Weibo_Bank/Final_CITI_Facebook.csv', header=0, encoding='utf-8-sig')\n",
    "df_6 = pd.read_csv('Collected_data/FB_Weibo_Bank/Final_CNCBI_Facebook.csv', header=0, encoding='utf-8-sig')\n",
    "df_7 = pd.read_csv('Collected_data/FB_Weibo_Bank/Final_DBS_Facebook.csv', header=0, encoding='utf-8-sig')\n",
    "df_8 = pd.read_csv('Collected_data/FB_Weibo_Bank/Final_HSBC_Facebook.csv', header=0, encoding='utf-8-sig')\n",
    "df_9 = pd.read_csv('Collected_data/FB_Weibo_Bank/Final_ICBC_Facebook.csv', header=0, encoding='utf-8-sig')\n",
    "df_10 = pd.read_csv('Collected_data/FB_Weibo_Bank/Final_LIVI_Facebook.csv', header=0, encoding='utf-8-sig')\n",
    "df_11 = pd.read_csv('Collected_data/FB_Weibo_Bank/Final_MOX_Facebook.csv', header=0, encoding='utf-8-sig')\n",
    "df_12 = pd.read_csv('Collected_data/FB_Weibo_Bank/Final_SC_Facebook.csv', header=0, encoding='utf-8-sig')\n",
    "df_13 = pd.read_csv('Collected_data/FB_Weibo_Bank/Final_WELAB_Facebook.csv', header=0, encoding='utf-8-sig')\n",
    "df_14 = pd.read_csv('Collected_data/FB_Weibo_Bank/Final_WH_Facebook.csv', header=0, encoding='utf-8-sig')\n",
    "df_15 = pd.read_csv('Collected_data/FB_Weibo_Bank/Final_DS_Facebook.csv', header=0, encoding='utf-8-sig')"
   ]
  },
  {
   "cell_type": "code",
   "execution_count": null,
   "id": "8ba9c4e8",
   "metadata": {},
   "outputs": [],
   "source": [
    "# Concat all df\n",
    "frames = [df_1, df_2, df_3, df_4, df_5, df_6, df_7, df_8, df_9, df_10, df_11, df_12, df_13, df_14, df_15]  \n",
    "df_master = pd.concat(frames, ignore_index=True)"
   ]
  },
  {
   "cell_type": "code",
   "execution_count": null,
   "id": "8d38ac46",
   "metadata": {},
   "outputs": [],
   "source": [
    "display(df_master)"
   ]
  },
  {
   "cell_type": "code",
   "execution_count": null,
   "id": "72718d74",
   "metadata": {},
   "outputs": [],
   "source": [
    "df_master.info()"
   ]
  },
  {
   "cell_type": "code",
   "execution_count": null,
   "id": "5deb2d78",
   "metadata": {},
   "outputs": [],
   "source": [
    "df_master.groupby(by=['bank'])[\"level\"].value_counts()"
   ]
  },
  {
   "cell_type": "code",
   "execution_count": null,
   "id": "6ad15da2",
   "metadata": {},
   "outputs": [],
   "source": [
    "stat = df_master[\"bank\"].value_counts()\n",
    "type(stat)"
   ]
  },
  {
   "cell_type": "code",
   "execution_count": null,
   "id": "2059a2d3",
   "metadata": {},
   "outputs": [],
   "source": [
    "# stat.to_csv('Collected_data/FB_Weibo_Bank/Stat2_ALL_Facebook.csv')"
   ]
  },
  {
   "cell_type": "code",
   "execution_count": null,
   "id": "eb7b8cfe",
   "metadata": {},
   "outputs": [],
   "source": [
    "# df_master.to_csv('Collected_data/FB_Weibo_Bank/Final_ALL_Facebook.csv', encoding='utf-8-sig', index=False)"
   ]
  },
  {
   "cell_type": "markdown",
   "id": "4448c649",
   "metadata": {},
   "source": [
    "## 3. Word Cloud"
   ]
  },
  {
   "cell_type": "code",
   "execution_count": null,
   "id": "8703d80c",
   "metadata": {},
   "outputs": [],
   "source": [
    "#*********************************\n",
    "bank_abbev = \"BEA\"\n",
    "df = pd.read_csv(f'Collected_data/FB_Weibo_Bank/FB_{bank_abbev}_2022_v2.csv', encoding =\"utf-8-sig\")\n",
    "#*********************************\n",
    "\n",
    "# index\n",
    "dt_now = str(dt.datetime.now())\n",
    "dt_now = dt_now.replace(\"-\",\"\").replace(\":\",\"\").replace(\" \",\"\")\n",
    "dt_now = dt_now[0:14]"
   ]
  },
  {
   "cell_type": "code",
   "execution_count": null,
   "id": "3302c07d",
   "metadata": {},
   "outputs": [],
   "source": [
    "# Remove URL\n",
    "df_noURL = df.message.apply(lambda x: re.sub(r'http\\S+', '', x))"
   ]
  },
  {
   "cell_type": "code",
   "execution_count": null,
   "id": "cbe0d719",
   "metadata": {},
   "outputs": [],
   "source": [
    "jieba.set_dictionary('dict.txt.big.txt')"
   ]
  },
  {
   "cell_type": "code",
   "execution_count": null,
   "id": "801194d9",
   "metadata": {},
   "outputs": [],
   "source": [
    "# Word tokenization\n",
    "\n",
    "# Combine all rows together for easier process\n",
    "post_ALL = ''.join(df_noURL)\n",
    "\n",
    "# Word tokens with length larger than 1\n",
    "post_ALL_token = jieba.lcut(post_ALL, cut_all=True)\n",
    "post_ALL_token_2 = [word for word in post_ALL_token if len(word.strip())>1]\n",
    "word_list = \" \".join(post_ALL_token_2)"
   ]
  },
  {
   "cell_type": "code",
   "execution_count": null,
   "id": "25d1ad96",
   "metadata": {},
   "outputs": [],
   "source": [
    "# Stopwords\n",
    "# Cantonese\n",
    "stop_words = pycantonese.stop_words()\n",
    "\n",
    "# TC Stopwords\n",
    "tc_stopwords = pd.read_csv(\"tc_stopwords.txt\", header=None)\n",
    "tc_stopwords = set(tc_stopwords[0])\n",
    "\n",
    "# Eng Stopwords\n",
    "eng_stopwords = stopwords.words('english')\n",
    "\n",
    "# Additional stopwords\n",
    "add_stopwd = set([\"HKD\", \"ZA\", \"ZABank\", \"ZA Bank\", \"Bank\", \"BEA\", \"HSBC\", \"ICBC\", \"DBS\", \"SC\", \"HK\", \"Hong\", \"Kong\", \"com\",\n",
    "                  \"香港\", \"眾安\", \"星展\", \"渣打\", \"東亞\", \"東亞銀行\", \"匯豐\", \"工銀\", \"有限公司\", \"銀行\", \"DBSHK\"])\n",
    "\n",
    "# Combine stopwords\n",
    "tc_stopwords_union = tc_stopwords.union(stop_words, add_stopwd, eng_stopwords)"
   ]
  },
  {
   "cell_type": "code",
   "execution_count": null,
   "id": "4fe13988",
   "metadata": {
    "scrolled": false
   },
   "outputs": [],
   "source": [
    "wordcloud = WordCloud(width = 500, height = 500,\n",
    "                      font_path=\"simsun.ttf\",\n",
    "                      background_color ='white',\n",
    "                      stopwords = tc_stopwords_union,\n",
    "                      collocations=False,\n",
    "                      min_font_size = 15).generate(word_list)\n",
    "\n",
    "# plot the WordCloud image                      \n",
    "plt.figure(figsize = (5, 5), facecolor = None)\n",
    "plt.imshow(wordcloud)\n",
    "plt.axis(\"off\")\n",
    "plt.tight_layout(pad = 0)\n",
    "\n",
    "plt.savefig(f'Bank_Wordcloud/{bank_abbev}_{dt_now}.png')\n",
    "plt.show()"
   ]
  },
  {
   "cell_type": "code",
   "execution_count": null,
   "id": "d4d83109",
   "metadata": {
    "code_folding": [
     0
    ]
   },
   "outputs": [],
   "source": [
    "# makes the circle using numpy\n",
    "x, y = np.ogrid[:300, :300]\n",
    "mask = (x - 150) ** 2 + (y - 150) ** 2 > 130 ** 2\n",
    "mask = 255 * mask.astype(int)\n",
    "\n",
    "wordcloud = WordCloud(width = 800, height = 800,\n",
    "                      font_path=\"simsun.ttf\",\n",
    "                      background_color ='white',\n",
    "                      stopwords = tc_stopwords_union,\n",
    "                      mask = mask,\n",
    "                      min_font_size = 10).generate(mytext_ALL_list)\n",
    "\n",
    "# index\n",
    "dt_now = str(dt.datetime.now())\n",
    "dt_now = dt_now.replace(\"-\",\"\").replace(\":\",\"\").replace(\" \",\"\")\n",
    "dt_now = dt_now[0:14]\n",
    "\n",
    "# plot the WordCloud image                      \n",
    "plt.figure(figsize = (8, 8), facecolor = None)\n",
    "plt.imshow(wordcloud)\n",
    "plt.axis(\"off\")\n",
    "plt.tight_layout(pad = 0)\n",
    "\n",
    "plt.savefig(f'Bank_Wordcloud/ZA_{dt_now}.png')\n",
    "plt.show()"
   ]
  },
  {
   "cell_type": "markdown",
   "id": "3321f833",
   "metadata": {},
   "source": [
    "## 4. Sklearn LDA (Topic Modelling)"
   ]
  },
  {
   "cell_type": "markdown",
   "id": "a62786e1",
   "metadata": {},
   "source": [
    "### 4.1 Sample"
   ]
  },
  {
   "cell_type": "code",
   "execution_count": null,
   "id": "ffa276cf",
   "metadata": {},
   "outputs": [],
   "source": [
    "df = pd.read_csv(\"Test_LDA_TopicModelling/datascience.csv\", encoding='gb18030')"
   ]
  },
  {
   "cell_type": "code",
   "execution_count": null,
   "id": "9b82a4ff",
   "metadata": {},
   "outputs": [],
   "source": [
    "df.head(3)"
   ]
  },
  {
   "cell_type": "markdown",
   "id": "6ab46ef5",
   "metadata": {},
   "source": [
    "<b>Word Tokenization using Jieba</b>"
   ]
  },
  {
   "cell_type": "code",
   "execution_count": null,
   "id": "b6ee7287",
   "metadata": {},
   "outputs": [],
   "source": [
    "def chinese_word_cut(mytext):\n",
    "    return \" \".join(jieba.cut(mytext))\n",
    "\n",
    "df[\"content_cutted\"] = df.content.apply(chinese_word_cut)\n",
    "df.content_cutted.head()"
   ]
  },
  {
   "cell_type": "markdown",
   "id": "13de40b8",
   "metadata": {},
   "source": [
    "<b>Word Vectorization using TFIDF</b>"
   ]
  },
  {
   "cell_type": "code",
   "execution_count": null,
   "id": "e4c9e4d7",
   "metadata": {},
   "outputs": [],
   "source": [
    "# Avoid extracting ALL keywords from the text\n",
    "n_features = 1000\n",
    "tf_vectorizer = CountVectorizer(strip_accents='unicode',\n",
    "                                max_features=n_features,\n",
    "                                stop_words='english',\n",
    "                                # Ignore terms that have a document frequency > or < than the threshold\n",
    "                                max_df = 0.5,\n",
    "                                min_df = 10)\n",
    "tf = tf_vectorizer.fit_transform(df.content_cutted)"
   ]
  },
  {
   "cell_type": "markdown",
   "id": "1bf79889",
   "metadata": {},
   "source": [
    "<b>Apply LDA to train the model</b>"
   ]
  },
  {
   "cell_type": "code",
   "execution_count": null,
   "id": "deda8533",
   "metadata": {},
   "outputs": [],
   "source": [
    "# Need to self define no. of topics\n",
    "n_topics = 5\n",
    "lda = LatentDirichletAllocation(n_components=n_topics, \n",
    "                                max_iter=50,\n",
    "                                learning_method='online',\n",
    "                                learning_offset=50.,\n",
    "                                random_state=0)\n",
    "lda.fit(tf)"
   ]
  },
  {
   "cell_type": "code",
   "execution_count": null,
   "id": "375899e3",
   "metadata": {},
   "outputs": [],
   "source": [
    "# Print top words of each topics\n",
    "def print_top_words(model, feature_names, n_top_words):\n",
    "    for topic_idx, topic in enumerate(model.components_):\n",
    "        print(\"Topic #%d:\" % topic_idx)\n",
    "        print(\" \".join([feature_names[i]\n",
    "                        for i in topic.argsort()[:-n_top_words - 1:-1]]))\n",
    "    print()"
   ]
  },
  {
   "cell_type": "code",
   "execution_count": null,
   "id": "66417771",
   "metadata": {},
   "outputs": [],
   "source": [
    "# Set how many top words to get for each topic\n",
    "n_top_words = 20\n",
    "\n",
    "tf_feature_names = tf_vectorizer.get_feature_names_out()\n",
    "print_top_words(lda, tf_feature_names, n_top_words)"
   ]
  },
  {
   "cell_type": "code",
   "execution_count": null,
   "id": "5e5ac406",
   "metadata": {
    "scrolled": true
   },
   "outputs": [],
   "source": [
    "pyLDAvis.enable_notebook()\n",
    "pyLDAvis.sklearn.prepare(lda, tf, tf_vectorizer)"
   ]
  },
  {
   "cell_type": "markdown",
   "id": "8691b14c",
   "metadata": {},
   "source": [
    "### 4.2 Facebook posts"
   ]
  },
  {
   "cell_type": "code",
   "execution_count": null,
   "id": "fee172b5",
   "metadata": {},
   "outputs": [],
   "source": [
    "bank_abbev = \"ALL\"\n",
    "df = pd.read_csv(f'Collected_data/FB_Weibo_Bank/FBClean_{bank_abbev}_v2.csv', encoding='utf-8-sig', header=0)"
   ]
  },
  {
   "cell_type": "code",
   "execution_count": null,
   "id": "07b618b6",
   "metadata": {},
   "outputs": [],
   "source": [
    "df.head(3)"
   ]
  },
  {
   "cell_type": "markdown",
   "id": "a3afc65c",
   "metadata": {},
   "source": [
    "<b>Cantonese Stopwords</b>"
   ]
  },
  {
   "cell_type": "code",
   "execution_count": null,
   "id": "f10f3067",
   "metadata": {},
   "outputs": [],
   "source": [
    "# Stopwords\n",
    "# Cantonese\n",
    "stop_words = pycantonese.stop_words()\n",
    "\n",
    "# TC Stopwords\n",
    "tc_stopwords = pd.read_csv(\"tc_stopwords.txt\", header=None)\n",
    "tc_stopwords = set(tc_stopwords[0])\n",
    "\n",
    "# Eng Stopwords\n",
    "eng_stopwords = stopwords.words('english')\n",
    "\n",
    "# Additional stopwords\n",
    "add_stopwd = set([\"HKD\", \"ZA\", \"ZABank\", \"ZA Bank\", \"Bank\", \"BEA\", \"HSBC\", \"ICBC\", \"DBS\", \"SC\", \"HK\", \"Hong\", \"Kong\", \"com\", \"bit\", \"亞銀\", \"閣下\",\n",
    "                  \"香港\", \"眾安\", \"星展\", \"渣打\", \"東亞\", \"東亞銀行\", \"匯豐\", \"工銀\", \"有限公司\", \"銀行\", \"DBSHK\", \"html\", \"conditions\", \"terms\", \"ly\",\n",
    "                  'bank', 'bea', 'dbs', 'dbshk', 'hk', 'hkd', 'hong', 'hsbc', 'icbc', 'kong', 'sc', 'za', 'zabank', \"condition\", \"term\", '若果',\n",
    "                  \"grp\"])\n",
    "\n",
    "# Combine stopwords\n",
    "tc_stopwords_union = tc_stopwords.union(stop_words, add_stopwd, eng_stopwords)"
   ]
  },
  {
   "cell_type": "markdown",
   "id": "e7745a36",
   "metadata": {},
   "source": [
    "<b>Word Tokenization using Jieba</b>"
   ]
  },
  {
   "cell_type": "code",
   "execution_count": null,
   "id": "ecc3fed5",
   "metadata": {},
   "outputs": [],
   "source": [
    "jieba.set_dictionary('dict.txt.big.txt')"
   ]
  },
  {
   "cell_type": "code",
   "execution_count": null,
   "id": "91d43069",
   "metadata": {},
   "outputs": [],
   "source": [
    "def chinese_word_cut(mytext):\n",
    "    # Jieba - Word tokenization\n",
    "    word_list = jieba.lcut(mytext, cut_all=True)\n",
    "    word_list = [word for word in word_list if len(word.strip())>1]\n",
    "    word_list = [i for i in word_list if not i.isdigit()]\n",
    "    word_list = \" \".join(word_list)\n",
    "    \n",
    "    # Remove punctuation marks\n",
    "    word_list = word_list.translate(str.maketrans('', '', string.punctuation)) # English\n",
    "    word_list = word_list.translate(str.maketrans('', '', punctuation)) # Chinese\n",
    "    \n",
    "    # Remove emojis\n",
    "    word_list = emoji.get_emoji_regexp().sub(u'', word_list)\n",
    "    return word_list\n",
    "\n",
    "df[\"content_cutted\"] = df.message.apply(chinese_word_cut)\n",
    "df.content_cutted.head()"
   ]
  },
  {
   "cell_type": "markdown",
   "id": "a9b2275e",
   "metadata": {},
   "source": [
    "<b>Word Vectorization using TFIDF</b>"
   ]
  },
  {
   "cell_type": "code",
   "execution_count": null,
   "id": "471e11f8",
   "metadata": {},
   "outputs": [],
   "source": [
    "# Avoid extracting ALL keywords from the text\n",
    "n_features = 1000\n",
    "tf_vectorizer = CountVectorizer(strip_accents='unicode',\n",
    "                                max_features=n_features,\n",
    "                                stop_words=tc_stopwords_union,\n",
    "                                # Ignore terms that have a document frequency > or < than the threshold\n",
    "                                max_df = 0.5,\n",
    "                                min_df = 10)\n",
    "tf = tf_vectorizer.fit_transform(df.content_cutted)"
   ]
  },
  {
   "cell_type": "markdown",
   "id": "3d805b80",
   "metadata": {},
   "source": [
    "<b>Apply LDA to train the model</b>"
   ]
  },
  {
   "cell_type": "code",
   "execution_count": null,
   "id": "ea5db2fc",
   "metadata": {},
   "outputs": [],
   "source": [
    "# Need to self define no. of topics\n",
    "n_topics = 7\n",
    "lda = LatentDirichletAllocation(n_components=n_topics, \n",
    "                                max_iter=50,\n",
    "                                learning_method='online',\n",
    "                                learning_offset=50.,\n",
    "                                random_state=0)\n",
    "lda.fit(tf)"
   ]
  },
  {
   "cell_type": "code",
   "execution_count": null,
   "id": "8a2c8df4",
   "metadata": {},
   "outputs": [],
   "source": [
    "# Print top words of each topics\n",
    "def print_top_words(model, feature_names, n_top_words):\n",
    "    print(bank_abbev, \"Bank Topics:\\n\")\n",
    "    for topic_idx, topic in enumerate(model.components_):\n",
    "        print(\"Topic #%d:\" % topic_idx)\n",
    "        print(\" \".join([feature_names[i]\n",
    "                        for i in topic.argsort()[:-n_top_words - 1:-1]]))\n",
    "    print()"
   ]
  },
  {
   "cell_type": "code",
   "execution_count": null,
   "id": "e900ff8f",
   "metadata": {},
   "outputs": [],
   "source": [
    "# Set how many top words to get for each topic\n",
    "n_top_words = 20\n",
    "\n",
    "tf_feature_names = tf_vectorizer.get_feature_names_out()\n",
    "print_top_words(lda, tf_feature_names, n_top_words)"
   ]
  },
  {
   "cell_type": "code",
   "execution_count": null,
   "id": "0b92995e",
   "metadata": {},
   "outputs": [],
   "source": [
    "lda.components_[1]"
   ]
  },
  {
   "cell_type": "code",
   "execution_count": null,
   "id": "8b763f7f",
   "metadata": {},
   "outputs": [],
   "source": [
    "# index\n",
    "dt_now = str(dt.datetime.now())\n",
    "dt_now = dt_now.replace(\"-\",\"\").replace(\":\",\"\").replace(\" \",\"\")\n",
    "dt_now = dt_now[0:14]\n",
    "\n",
    "pyLDAvis.enable_notebook()\n",
    "p = pyLDAvis.sklearn.prepare(lda, tf, tf_vectorizer)\n",
    "pyLDAvis.save_html(p, f'Test_LDA_TopicModelling/LDA_{bank_abbev}_{dt_now}.html')"
   ]
  },
  {
   "cell_type": "markdown",
   "id": "65dfc030",
   "metadata": {},
   "source": [
    "## 5. Gensim LDA (Topic Modelling)"
   ]
  },
  {
   "cell_type": "markdown",
   "id": "079371fa",
   "metadata": {},
   "source": [
    "<b>Assign topics to ALL Facebook posts and comments</b>"
   ]
  },
  {
   "cell_type": "code",
   "execution_count": null,
   "id": "fd88e4d1",
   "metadata": {
    "scrolled": true
   },
   "outputs": [],
   "source": [
    "bank_abbev = \"ALL\"\n",
    "df = pd.read_csv(f'Collected_data/Final_{bank_abbev}_Facebook.csv', encoding='utf-8-sig', header=0)"
   ]
  },
  {
   "cell_type": "code",
   "execution_count": null,
   "id": "4ea6f36f",
   "metadata": {},
   "outputs": [],
   "source": [
    "display(df.head(3))"
   ]
  },
  {
   "cell_type": "markdown",
   "id": "a7948fbf",
   "metadata": {},
   "source": [
    "# Working"
   ]
  },
  {
   "cell_type": "code",
   "execution_count": 131,
   "id": "54065108",
   "metadata": {},
   "outputs": [],
   "source": [
    "stopword_list = []\n",
    "\n",
    "with open(\"tc_stopwords_union.txt\", 'r',encoding='utf-8-sig') as f:\n",
    "    for data in f.readlines():\n",
    "        stopword_list.append(data.strip())"
   ]
  },
  {
   "cell_type": "code",
   "execution_count": 132,
   "id": "48276e97",
   "metadata": {},
   "outputs": [
    {
     "data": {
      "text/plain": [
       "['0', '大家', '來自', '乜嘢', '譬喻', 'because', '所以', '連同', '嘍', '成日']"
      ]
     },
     "execution_count": 132,
     "metadata": {},
     "output_type": "execute_result"
    }
   ],
   "source": [
    "stopword_list[0:10]"
   ]
  },
  {
   "cell_type": "code",
   "execution_count": 133,
   "id": "72cdce58",
   "metadata": {
    "scrolled": true
   },
   "outputs": [
    {
     "data": {
      "text/plain": [
       "[['好友',\n",
       "  '齊齊',\n",
       "  '美容',\n",
       "  '按摩',\n",
       "  '項目',\n",
       "  '買一送一',\n",
       "  '所謂',\n",
       "  '休息',\n",
       "  '更遠',\n",
       "  '工作',\n",
       "  '適時',\n",
       "  '放鬆',\n",
       "  '一下',\n",
       "  'Card',\n",
       "  '特選',\n",
       "  '商戶',\n",
       "  '水療',\n",
       "  '按摩',\n",
       "  '美容',\n",
       "  '買一送一',\n",
       "  '朋友',\n",
       "  '一齊',\n",
       "  'relax',\n",
       "  '身心',\n",
       "  '重新',\n",
       "  '注入',\n",
       "  '能量',\n",
       "  '出發',\n",
       "  'Miris',\n",
       "  'Spa',\n",
       "  '岩石',\n",
       "  '按摩',\n",
       "  '專門店',\n",
       "  '岩鹽',\n",
       "  '熱石',\n",
       "  '身體',\n",
       "  '排毒',\n",
       "  '抗疲',\n",
       "  '適合',\n",
       "  '孕婦',\n",
       "  '舒緩',\n",
       "  '按摩',\n",
       "  '護理',\n",
       "  '為身',\n",
       "  '得到',\n",
       "  '全面',\n",
       "  '放鬆',\n",
       "  'Spa',\n",
       "  'Sanctuary',\n",
       "  '提供',\n",
       "  '多款',\n",
       "  '按摩',\n",
       "  '面部',\n",
       "  '療程',\n",
       "  '全面',\n",
       "  '提升',\n",
       "  '能量',\n",
       "  '精神飽滿',\n",
       "  'OUT',\n",
       "  'OF',\n",
       "  'COLOURS',\n",
       "  'Beauty',\n",
       "  '要望',\n",
       "  '落夠',\n",
       "  '點少',\n",
       "  '一枝',\n",
       "  '唇膏',\n",
       "  '亞洲',\n",
       "  '首創',\n",
       "  '唇膏',\n",
       "  '體驗',\n",
       "  '造型',\n",
       "  '獨一無二',\n",
       "  '唇色',\n",
       "  '仲有',\n",
       "  '特選',\n",
       "  '商戶',\n",
       "  '美容',\n",
       "  '按摩',\n",
       "  '項目',\n",
       "  '買一送一',\n",
       "  '詳情',\n",
       "  '3SNzVUe',\n",
       "  '另一半',\n",
       "  'spa',\n",
       "  '屋企',\n",
       "  '閨密',\n",
       "  '扮靚靚',\n",
       "  'ZACard',\n",
       "  '-------',\n",
       "  '即日',\n",
       "  'Card',\n",
       "  '特選',\n",
       "  '商戶',\n",
       "  '購買',\n",
       "  '指定',\n",
       "  '美容',\n",
       "  '項目',\n",
       "  '即享',\n",
       "  '買一送一',\n",
       "  '優惠',\n",
       "  '優惠',\n",
       "  '特選',\n",
       "  '商戶',\n",
       "  '提供',\n",
       "  '使用',\n",
       "  '條件',\n",
       "  '包括',\n",
       "  '限於',\n",
       "  '美容',\n",
       "  '項目',\n",
       "  '種類',\n",
       "  '價錢',\n",
       "  '優惠',\n",
       "  '享用',\n",
       "  '時間',\n",
       "  '使用',\n",
       "  '方式',\n",
       "  '特選',\n",
       "  '商戶',\n",
       "  '決定',\n",
       "  '詳情請',\n",
       "  '商戶',\n",
       "  '查詢',\n",
       "  '名額有限',\n",
       "  '先到',\n",
       "  '先得',\n",
       "  '活動',\n",
       "  '3cmeutm'],\n",
       " ['真心',\n",
       "  '分享',\n",
       "  '立即',\n",
       "  '下載',\n",
       "  '申請',\n",
       "  '最新',\n",
       "  '邀請',\n",
       "  'C943N3',\n",
       "  '成功',\n",
       "  '申請',\n",
       "  'Card',\n",
       "  '消費',\n",
       "  '一次',\n",
       "  'C943N3',\n",
       "  '成功',\n",
       "  '開戶',\n",
       "  '參加',\n",
       "  '百萬',\n",
       "  '機會',\n",
       "  '獲得',\n",
       "  '港幣',\n",
       "  '一百萬',\n",
       "  '現金',\n",
       "  '獎賞',\n",
       "  '需在',\n",
       "  '成功',\n",
       "  '開戶',\n",
       "  '日內用',\n",
       "  'Card',\n",
       "  '消費',\n",
       "  '即刻',\n",
       "  '開戶',\n",
       "  'group',\n",
       "  'mgm',\n",
       "  'C943N3'],\n",
       " ['真心',\n",
       "  '分享',\n",
       "  '立即',\n",
       "  '下載',\n",
       "  '申請',\n",
       "  '最新',\n",
       "  '邀請',\n",
       "  'L44838',\n",
       "  '開戶',\n",
       "  '獲得',\n",
       "  '現金',\n",
       "  '獎賞',\n",
       "  '仲有',\n",
       "  '一大堆',\n",
       "  '優惠',\n",
       "  '開戶',\n",
       "  '一張',\n",
       "  '百萬',\n",
       "  '抽券',\n",
       "  '機會',\n",
       "  '獨贏',\n",
       "  '港幣',\n",
       "  '一百萬',\n",
       "  '現金',\n",
       "  '獎賞',\n",
       "  '開戶',\n",
       "  '可享',\n",
       "  '1%',\n",
       "  '定存',\n",
       "  '加息',\n",
       "  '高達',\n",
       "  '三個',\n",
       "  '定存',\n",
       "  '額外',\n",
       "  '利息',\n",
       "  '咖啡',\n",
       "  '買一送一',\n",
       "  'Classified',\n",
       "  'Feather',\n",
       "  'Bone',\n",
       "  'Hazel',\n",
       "  'Hershey',\n",
       "  '間型格',\n",
       "  '咖啡店',\n",
       "  '朋友',\n",
       "  '打卡',\n",
       "  '最快',\n",
       "  '分鐘',\n",
       "  '開戶',\n",
       "  '認購',\n",
       "  '環球',\n",
       "  '知名',\n",
       "  '基金',\n",
       "  '現在',\n",
       "  '最新',\n",
       "  '邀請',\n",
       "  'L44838',\n",
       "  '開戶',\n",
       "  '獲得',\n",
       "  '現金',\n",
       "  '獎賞',\n",
       "  '開戶',\n",
       "  '第五日',\n",
       "  '至下',\n",
       "  '月底',\n",
       "  '期間',\n",
       "  '每日',\n",
       "  '資金',\n",
       "  '結餘',\n",
       "  'HKD50000',\n",
       "  '投資',\n",
       "  '涉及',\n",
       "  '風險',\n",
       "  '立即',\n",
       "  '開戶'],\n",
       " ['有效',\n",
       "  '開户',\n",
       "  '邀請',\n",
       "  'L44838',\n",
       "  '申請',\n",
       "  '戶口',\n",
       "  '存款',\n",
       "  '五萬',\n",
       "  '至下',\n",
       "  '月底',\n",
       "  '申請',\n",
       "  '銀行貸款',\n",
       "  '輸入',\n",
       "  '邀請',\n",
       "  'L44838',\n",
       "  '可獲',\n",
       "  '九折',\n",
       "  '貸款',\n",
       "  '優惠券'],\n",
       " ['大解密',\n",
       "  'Free',\n",
       "  '分鐘',\n",
       "  '海外',\n",
       "  '升學',\n",
       "  '終極',\n",
       "  '懶人',\n",
       "  'DSE',\n",
       "  '英國',\n",
       "  '排名',\n",
       "  '大學',\n",
       "  '讀書',\n",
       "  '順便',\n",
       "  '移民',\n",
       "  '國家',\n",
       "  '德國',\n",
       "  '免費',\n",
       "  '大學',\n",
       "  'EF',\n",
       "  'Education',\n",
       "  'First',\n",
       "  '海外',\n",
       "  '升學',\n",
       "  '課程',\n",
       "  '總監',\n",
       "  '凌雪儀',\n",
       "  '解答',\n",
       "  '問題',\n",
       "  '港人',\n",
       "  '海外',\n",
       "  '升學',\n",
       "  '熱點',\n",
       "  '各地',\n",
       "  '學制',\n",
       "  '學費',\n",
       "  '升學',\n",
       "  '途徑',\n",
       "  '銜接',\n",
       "  '生活',\n",
       "  '成本',\n",
       "  '一次',\n",
       "  '過講',\n",
       "  '同場',\n",
       "  '仲有',\n",
       "  '理財專家',\n",
       "  '分享',\n",
       "  '案例',\n",
       "  '你點',\n",
       "  '制定',\n",
       "  '海外',\n",
       "  '升學',\n",
       "  '預算',\n",
       "  '計劃',\n",
       "  '滾存',\n",
       "  '教育',\n",
       "  '基金',\n",
       "  'Share',\n",
       "  '理財',\n",
       "  'Tips',\n",
       "  '活動',\n",
       "  '詳情',\n",
       "  '時間',\n",
       "  '開放',\n",
       "  '入座',\n",
       "  '地點',\n",
       "  '尖沙咀',\n",
       "  '港威',\n",
       "  '大廈',\n",
       "  '名額',\n",
       "  '歡迎',\n",
       "  '攜同',\n",
       "  '朋友',\n",
       "  '出席',\n",
       "  '即日起',\n",
       "  '報名',\n",
       "  '免費',\n",
       "  '得到',\n",
       "  'EF',\n",
       "  '限量',\n",
       "  '提供',\n",
       "  '免費',\n",
       "  '分鐘',\n",
       "  '海外',\n",
       "  '升學',\n",
       "  '專家',\n",
       "  '諮詢',\n",
       "  '當日',\n",
       "  '接受',\n",
       "  '預約',\n",
       "  '英美',\n",
       "  '加德',\n",
       "  '留學',\n",
       "  '手冊',\n",
       "  '名額有限',\n",
       "  '立即',\n",
       "  'Eventbrite',\n",
       "  '報名',\n",
       "  'study',\n",
       "  'eventbrite',\n",
       "  '海外',\n",
       "  '升學']]"
      ]
     },
     "execution_count": 133,
     "metadata": {},
     "output_type": "execute_result"
    }
   ],
   "source": [
    "def _filter(word):\n",
    "    extra_stoplist = ['\\n', ' ', '\\xa0', '─', '', 'https', 'http']\n",
    "    if word in stopword_list + extra_stoplist:\n",
    "        return False\n",
    "    elif (len(word) > 1) & (~word.isdigit()):\n",
    "        return True\n",
    "\n",
    "def chinese_word_cut(mytext):\n",
    "    # Jieba - Word tokenization\n",
    "#     word_list = jieba.cut(mytext, cut_all=False)\n",
    "    word_list = list(filter(_filter, jieba.cut(mytext)))\n",
    "#     word_list = [word for word in word_list if len(word.strip())>1]\n",
    "#     word_list = [i for i in word_list if not i.isdigit()]\n",
    "#     word_list = \" \".join(word_list)\n",
    "    \n",
    "#     # Remove punctuation marks\n",
    "#     word_list = word_list.translate(str.maketrans('', '', string.punctuation)) # English\n",
    "#     word_list = word_list.translate(str.maketrans('', '', punctuation)) # Chinese\n",
    "    \n",
    "#     # Remove emojis\n",
    "#     word_list = emoji.get_emoji_regexp().sub(u'', word_list)\n",
    "    return word_list\n",
    "\n",
    "[chinese_word_cut(x) for x in df.message[0:5]]\n",
    "\n",
    "\n",
    "# df[\"content_cutted\"] = df.message.apply(chinese_word_cut)\n",
    "# df.content_cutted.head()"
   ]
  },
  {
   "cell_type": "code",
   "execution_count": 134,
   "id": "0b5fdcea",
   "metadata": {},
   "outputs": [
    {
     "name": "stdout",
     "output_type": "stream",
     "text": [
      "<class 'list'> 33100\n"
     ]
    }
   ],
   "source": [
    "document = [chinese_word_cut(x) for x in df.message]\n",
    "# document = [df.message.apply(lambda x: chinese_word_cut(x))]\n",
    "print(type(document), len(document))"
   ]
  },
  {
   "cell_type": "code",
   "execution_count": 135,
   "id": "1dfa16dd",
   "metadata": {},
   "outputs": [],
   "source": [
    "dictionary = Dictionary(document)"
   ]
  },
  {
   "cell_type": "code",
   "execution_count": 136,
   "id": "3543c831",
   "metadata": {
    "scrolled": true
   },
   "outputs": [],
   "source": [
    "# Token frequency\n",
    "# dictionary.dfs"
   ]
  },
  {
   "cell_type": "markdown",
   "id": "430cdc41",
   "metadata": {},
   "source": [
    "詞袋(BOW, bag of word)，轉換成詞袋之後的好處是方便進行LDA模型訓練，但詞袋模型的缺點是不考慮詞跟詞的連接的順序，因而大幅簡化了原文本。"
   ]
  },
  {
   "cell_type": "code",
   "execution_count": 137,
   "id": "6833250c",
   "metadata": {},
   "outputs": [],
   "source": [
    "corpus = [dictionary.doc2bow(text) for text in document]"
   ]
  },
  {
   "cell_type": "code",
   "execution_count": 148,
   "id": "dd17bdf7",
   "metadata": {},
   "outputs": [],
   "source": [
    "lda = LdaModel(corpus,\n",
    "               id2word=dictionary,\n",
    "               num_topics=6,\n",
    "               random_state=100,\n",
    "               update_every=1,\n",
    "               chunksize=100,\n",
    "               passes=5,\n",
    "               alpha='auto',\n",
    "               per_word_topics=True)"
   ]
  },
  {
   "cell_type": "code",
   "execution_count": 149,
   "id": "707a1b20",
   "metadata": {
    "scrolled": true
   },
   "outputs": [
    {
     "data": {
      "text/plain": [
       "[(0,\n",
       "  '0.256*\"答案\" + 0.228*\"知多少\" + 0.025*\"Mox\" + 0.019*\"得獎者\" + 0.010*\"參與\" + 0.009*\"Apple\" + 0.009*\"智郵站\" + 0.009*\"郵政局\" + 0.008*\"得獎\" + 0.008*\"領獎\"'),\n",
       " (1,\n",
       "  '0.034*\"優惠\" + 0.032*\"現金\" + 0.022*\"貸款\" + 0.022*\"獎賞\" + 0.020*\"高達\" + 0.020*\"消費\" + 0.019*\"申請\" + 0.018*\"回贈\" + 0.017*\"專人\" + 0.015*\"成功\"'),\n",
       " (2,\n",
       "  '0.070*\"理財\" + 0.044*\"有獎\" + 0.043*\"日常\" + 0.043*\"輕鬆\" + 0.018*\"服務\" + 0.013*\"客戶\" + 0.010*\"目標\" + 0.010*\"儲蓄\" + 0.009*\"外幣\" + 0.008*\"建議\"'),\n",
       " (3,\n",
       "  '0.060*\"banking\" + 0.029*\"Wong\" + 0.022*\"Lam\" + 0.019*\"健康\" + 0.011*\"Ng\" + 0.010*\"Wai\" + 0.010*\"推薦\" + 0.008*\"中小\" + 0.007*\"YNWA\" + 0.006*\"Ming\"'),\n",
       " (4,\n",
       "  '0.053*\"Chan\" + 0.019*\"意食\" + 0.017*\"Lee\" + 0.016*\"Cheung\" + 0.013*\"Chow\" + 0.012*\"Wing\" + 0.012*\"Leung\" + 0.011*\"Yan\" + 0.010*\"沙律\" + 0.010*\"Lau\"'),\n",
       " (5,\n",
       "  '0.094*\"問答\" + 0.073*\"投資\" + 0.064*\"Banking\" + 0.038*\"風險\" + 0.019*\"外匯\" + 0.015*\"證券\" + 0.014*\"涉及\" + 0.012*\"買賣\" + 0.011*\"聲明\" + 0.009*\"資金\"')]"
      ]
     },
     "execution_count": 149,
     "metadata": {},
     "output_type": "execute_result"
    }
   ],
   "source": [
    "lda.print_topics()"
   ]
  },
  {
   "cell_type": "code",
   "execution_count": 150,
   "id": "79fa75ac",
   "metadata": {},
   "outputs": [],
   "source": [
    "# index\n",
    "dt_now = str(dt.datetime.now())\n",
    "dt_now = dt_now.replace(\"-\",\"\").replace(\":\",\"\").replace(\" \",\"\")\n",
    "dt_now = dt_now[0:14]"
   ]
  },
  {
   "cell_type": "code",
   "execution_count": 151,
   "id": "69bb3d65",
   "metadata": {
    "scrolled": false
   },
   "outputs": [
    {
     "name": "stderr",
     "output_type": "stream",
     "text": [
      "C:\\Users\\user\\Documents\\Anaconda\\envs\\yourenvname\\lib\\site-packages\\pyLDAvis\\_prepare.py:246: FutureWarning: In a future version of pandas all arguments of DataFrame.drop except for the argument 'labels' will be keyword-only.\n",
      "  default_term_info = default_term_info.sort_values(\n"
     ]
    },
    {
     "data": {
      "text/html": [
       "\n",
       "<link rel=\"stylesheet\" type=\"text/css\" href=\"https://cdn.jsdelivr.net/gh/bmabey/pyLDAvis@3.3.1/pyLDAvis/js/ldavis.v1.0.0.css\">\n",
       "\n",
       "\n",
       "<div id=\"ldavis_el29002443723857696311442702\"></div>\n",
       "<script type=\"text/javascript\">\n",
       "\n",
       "var ldavis_el29002443723857696311442702_data = {\"mdsDat\": {\"x\": [-0.19447625175762667, 0.363150463170824, -0.34911486544926246, 0.18444833427864274, 0.17289813239243138, -0.17690581263500893], \"y\": [0.329305388982344, 0.015421720203167417, -0.014121433648488946, -0.3501065637731705, 0.32865105370882086, -0.3091501654726728], \"topics\": [1, 2, 3, 4, 5, 6], \"cluster\": [1, 1, 1, 1, 1, 1], \"Freq\": [32.57807216778998, 22.48749462103904, 15.24395647998765, 13.005045104962477, 11.189259338352107, 5.496172287868756]}, \"tinfo\": {\"Term\": [\"\\u7b54\\u6848\", \"\\u77e5\\u591a\\u5c11\", \"\\u7406\\u8ca1\", \"\\u554f\\u7b54\", \"\\u6295\\u8cc7\", \"banking\", \"\\u6709\\u734e\", \"\\u65e5\\u5e38\", \"Banking\", \"Chan\", \"\\u8f15\\u9b06\", \"\\u512a\\u60e0\", \"\\u73fe\\u91d1\", \"\\u98a8\\u96aa\", \"Wong\", \"\\u8cb8\\u6b3e\", \"\\u734e\\u8cde\", \"\\u9ad8\\u9054\", \"\\u6d88\\u8cbb\", \"\\u670d\\u52d9\", \"\\u7533\\u8acb\", \"Lam\", \"\\u56de\\u8d08\", \"\\u5c08\\u4eba\", \"\\u5065\\u5eb7\", \"\\u610f\\u98df\", \"\\u5ba2\\u6236\", \"\\u5e74\\u5229\\u7387\", \"Lee\", \"\\u6210\\u529f\", \"\\u7406\\u8ca1\", \"\\u65e5\\u5e38\", \"\\u6709\\u734e\", \"\\u670d\\u52d9\", \"\\u5ba2\\u6236\", \"\\u76ee\\u6a19\", \"\\u5132\\u84c4\", \"\\u5efa\\u8b70\", \"\\u8ddf\\u9032\", \"\\u9078\\u64c7\", \"\\u7522\\u54c1\", \"\\u9000\\u4f11\", \"\\u8cbc\\u5fc3\", \"\\u5145\\u8db3\", \"\\u532f\\u7387\", \"\\u512a\\u5148\", \"\\u751f\\u6d3b\", \"\\u6536\\u5165\", \"\\u6211\\u6703\", \"\\u9700\\u8981\", \"\\u6bcf\\u6708\", \"\\u91d1\\u984d\", \"\\u672c\\u884c\", \"\\u6301\\u7e8c\", \"\\u958b\\u652f\", \"\\u4eba\\u6c11\\u5e63\", \"\\u63d0\\u4f9b\", \"\\u6642\\u9593\", \"\\u900f\\u904e\", \"\\u8cc7\\u6599\", \"\\u8f15\\u9b06\", \"\\u6e96\\u5099\", \"\\u554f\\u984c\", \"\\u914d\\u5957\", \"\\u5916\\u5e63\", \"\\u8a08\\u5283\", \"\\u6236\\u53e3\", \"\\u4e00\\u500b\", \"\\u512a\\u60e0\", \"\\u73fe\\u91d1\", \"\\u8cb8\\u6b3e\", \"\\u734e\\u8cde\", \"\\u9ad8\\u9054\", \"\\u6d88\\u8cbb\", \"\\u7533\\u8acb\", \"\\u56de\\u8d08\", \"\\u5e74\\u5229\\u7387\", \"\\u5be6\\u969b\", \"\\u4fe1\\u7528\\u5361\", \"\\u8cc7\\u683c\", \"\\u5f97\\u5230\", \"\\u6bcf\\u500b\", \"\\u6307\\u5b9a\", \"app\", \"\\u5148\\u597d\", \"\\u501f\\u5b9a\", \"\\u63a8\\u5ee3\", \"\\u8fce\\u65b0\", \"\\u767b\\u8a18\", \"\\u6bcf\\u65e5\", \"\\u7d2f\\u7a4d\", \"\\u8b1d\\u8b1d\", \"\\u5168\\u65b0\", \"\\u5206\\u671f\", \"\\u984d\\u5916\", \"\\u5de5\\u4f5c\", \"\\u5b58\\u6b3e\", \"\\u5c08\\u4eba\", \"\\u958b\\u6236\", \"\\u9080\\u8acb\", \"\\u6210\\u529f\", \"\\u53ef\\u4eab\", \"\\u6e2f\\u5e63\", \"\\u5229\\u7387\", \"\\u7acb\\u5373\", \"\\u5927\\u65b0\", \"\\u5305\\u62ec\", \"Wong\", \"Lam\", \"\\u5065\\u5eb7\", \"banking\", \"Ng\", \"Wai\", \"\\u63a8\\u85a6\", \"Ming\", \"\\u597d\\u591a\", \"\\u5275\\u610f\", \"\\u505a\\u5230\", \"Kwok\", \"\\u597d\\u4f3c\", \"\\u52a0\\u4e0a\", \"\\u4e0d\\u8981\", \"\\u8a8d\\u8b58\", \"\\u5e73\\u6642\", \"\\u6bd4\\u8f03\", \"\\u5b78\\u7fd2\", \"\\u5be6\\u8e10\", \"\\u6700\\u597d\", \"\\u96fb\\u8a71\", \"\\u904b\\u52d5\", \"Yin\", \"\\u559c\\u6b61\", \"\\u884c\\u52d5\", \"\\u75ab\\u60c5\", \"\\u5f88\\u591a\", \"\\u77e5\\u8b58\", \"Poon\", \"YNWA\", \"\\u4e2d\\u5c0f\", \"\\u852c\\u83dc\", \"\\u6709\\u71df\", \"\\u5132\\u5230\", \"\\u767c\\u5c55\", \"\\u83dc\\u5f0f\", \"\\u6700\\u5f8c\", \"\\u5927\\u65b0\", \"\\u4e00\\u500b\", \"Chan\", \"Lee\", \"Cheung\", \"Chow\", \"Wing\", \"Leung\", \"Yan\", \"Lau\", \"Man\", \"Ma\", \"Chi\", \"Ho\", \"Siu\", \"Ka\", \"Li\", \"Law\", \"Lai\", \"Ching\", \"Wan\", \"Kam\", \"Ling\", \"Kwong\", \"Tam\", \"Yee\", \"Ying\", \"Kwan\", \"Yuen\", \"Cheng\", \"Chau\", \"Au\", \"\\u610f\\u98df\", \"\\u6c99\\u5f8b\", \"\\u725b\\u6cb9\\u679c\", \"\\u77e5\\u591a\\u5c11\", \"\\u6295\\u8cc7\", \"Banking\", \"\\u98a8\\u96aa\", \"\\u5916\\u532f\", \"\\u8b49\\u5238\", \"\\u6d89\\u53ca\", \"\\u8cb7\\u8ce3\", \"\\u8072\\u660e\", \"\\u8cc7\\u91d1\", \"\\u57fa\\u91d1\", \"\\u8667\\u640d\", \"\\u8ca1\\u5bcc\", \"\\u672a\\u4f86\", \"\\u80a1\\u7968\", \"\\u50f9\\u683c\", \"\\u6ce2\\u52d5\", \"\\u7ba1\\u7406\", \"\\u8cc7\\u7522\", \"\\u670b\\u53cb\", \"\\u5206\\u6790\", \"\\u9805\\u76ee\", \"\\u7d93\\u6fdf\", \"\\u5229\\u6f64\", \"\\u5e02\\u5834\", \"\\u6295\\u8cc7\\u8005\", \"\\u90e8\\u7f72\", \"\\u7d44\\u5408\", \"\\u8d70\\u52e2\", \"\\u7372\\u5229\", \"\\u9ad8\\u606f\", \"\\u554f\\u7b54\", \"\\u62ab\\u9732\", \"\\u79d8\\u8a23\", \"\\u6838\\u5fc3\", \"\\u652f\\u51fa\", \"\\u8b8a\\u52d5\", \"\\u514c\\u63db\", \"\\u5916\\u5e63\", \"\\u6578\\u64da\\u5206\\u6790\", \"\\u7b54\\u6848\", \"\\u5f97\\u734e\\u8005\", \"Apple\", \"\\u5f97\\u734e\", \"\\u606d\\u559c\", \"\\u9818\\u734e\", \"\\u597d\\u597d\", \"\\u5361\\u6578\", \"Credit\", \"Instagram\", \"Deliveroo\", \"mox\", \"Card\", \"Smart\", \"\\u8acb\\u554f\", \"\\u6700\\u4f73\", \"Candy\", \"\\u591a\\u8b1d\\u60a8\", \"Alan\", \"Ken\", \"card\", \"\\u6253\\u5361\", \"credit\", \"\\u5929\\u5167\", \"\\u8f49\\u6578\", \"\\u6236\\u6236\", \"\\u6d6a\\u8cbb\", \"\\u622a\\u6b62\", \"\\u590f\\u65e5\", \"\\u4ef2\\u6703\", \"\\u77e5\\u591a\\u5c11\", \"\\u667a\\u90f5\\u7ad9\", \"\\u90f5\\u653f\\u5c40\", \"Mox\", \"\\u9818\\u4ef6\", \"\\u53c3\\u8207\", \"36zNeop\", \"3IR7Mpu\", \"\\u90f5\\u905e\", \"\\u76f8\\u7b26\", \"\\u5238\\u4e59\\u5f35\", \"\\u5c07\\u4ee5\", \"\\u53c3\\u52a0\", \"\\u5206\\u4eab\", \"\\u5927\\u65b0\"], \"Freq\": [8803.0, 8566.0, 14329.0, 6619.0, 5090.0, 5680.0, 8913.0, 8782.0, 4486.0, 4294.0, 9087.0, 4786.0, 4544.0, 2639.0, 2766.0, 3100.0, 3038.0, 2832.0, 2802.0, 3614.0, 2651.0, 2057.0, 2549.0, 2452.0, 1779.0, 1599.0, 2686.0, 1976.0, 1419.0, 2142.0, 14328.973878255973, 8781.645348931184, 8912.894154482323, 3613.4405930842204, 2685.455348010588, 2112.27677959341, 1960.4338329259472, 1700.2593674446337, 1482.6558146200812, 1419.295140519949, 1438.9878715217812, 1320.2200414802985, 1230.700155416956, 1195.230327072683, 1130.795022529645, 1033.081767474698, 1013.9741889795353, 1195.8567677124265, 963.3668022368507, 922.7972725088223, 926.9943298798563, 908.7771513303657, 891.7028472874134, 846.013304312462, 816.5246552642626, 807.7840049501182, 791.6482703414243, 755.5200149186813, 734.994734815105, 726.3682675448412, 8756.663655540195, 1591.6841062727738, 1653.0061906667827, 878.4500209773943, 1813.6549944240724, 1190.0766189125616, 1156.9438887307747, 1036.5643977706789, 4786.186230882054, 4543.48373343515, 3099.8898761328114, 3037.922918607455, 2832.0182405086953, 2801.9455742087666, 2650.406611948687, 2548.935211246882, 1976.1232748210566, 1421.0662194037284, 1395.6338353284202, 1370.4378353248717, 1352.1486005222314, 1300.0598503237748, 1174.865001834847, 1118.1346590787773, 1107.2976811016208, 1088.7254143727052, 1032.7076962143428, 922.1599464601015, 891.5347782540898, 785.8975669040723, 765.7882140588742, 730.510577531416, 701.0932742774431, 681.095365253216, 680.1397394021398, 662.4022203057872, 597.9867745515527, 2449.602798121241, 1635.4469174946328, 1600.000182494555, 2051.1845209689127, 1129.4789979904417, 1195.4667123017944, 952.1644754444455, 877.9789903518025, 1150.0740257591299, 914.2583764516559, 2765.670776251827, 2057.1435334631033, 1778.6517287593063, 5677.784107519285, 1039.4511300770694, 982.4797024205961, 936.9315174512849, 529.7459845274949, 500.6487950520461, 484.8838887358517, 480.4385655948646, 392.1271900933233, 393.7252520295513, 401.77556342476635, 370.86204523009826, 349.40938945878713, 346.298782463053, 320.26330147320033, 299.91596965380614, 381.5499227205204, 289.4109619322245, 275.93764587656386, 274.13492968537116, 266.2770146079745, 263.17406882295677, 272.1602914844197, 261.6102491676701, 264.71312833346417, 247.8594196328109, 243.0425832880956, 657.0658911179692, 796.9755430012148, 335.50142738181313, 383.4479488143073, 372.1952735460237, 368.70733526769845, 366.1564407824227, 357.2870460327836, 311.5852371338017, 296.93638046452725, 4294.046531369399, 1418.6543416262102, 1269.726761479668, 1023.2166940535918, 956.3565560266145, 950.153841954387, 874.5658611067732, 817.7483424380019, 736.9145168749268, 653.4606864697805, 604.7921679367912, 591.7559880626266, 581.9304773372814, 574.0974782482814, 562.4984211203265, 537.5766992363463, 505.1574925642357, 474.38543187602215, 411.3252253815036, 405.9369907459215, 367.2381536796449, 366.20592148330456, 360.17594707202164, 354.6872665401543, 342.0334327766702, 338.3408809764153, 337.0498234622612, 313.27995191667054, 313.61876263133763, 296.59111821614323, 1547.9575747509512, 840.2617877592178, 392.30980555668447, 391.9585669831032, 5089.948575254203, 4485.995274280257, 2639.041536914776, 1301.6871053676464, 1031.3448875494264, 988.6566559490482, 872.1687224730322, 774.0743171999522, 615.0946623659206, 576.7632336604985, 592.3081457389934, 547.7098397987824, 523.0256040712154, 495.4643253891907, 471.78017944516745, 450.85200163142565, 403.52119925544224, 374.94913812904196, 350.32289704665806, 313.32511698341506, 302.59317366274644, 295.3553832646718, 290.8858836364959, 266.9064670355052, 266.45140955820926, 265.9166135187337, 250.79264346155725, 242.4979259196936, 236.8423396287771, 222.6191284479646, 6565.506039249085, 606.4926123240779, 448.6010661279991, 263.61434998335625, 456.5524938378787, 338.0819845656574, 516.739525686335, 480.4875587161199, 322.13811887965863, 8802.840821802338, 647.2940817316596, 313.1382639152204, 283.5912599562332, 264.7865655946517, 271.7229848080784, 260.4461153952587, 253.86764933504665, 237.57801062598892, 194.38684896758215, 165.1116165446225, 162.33260366844334, 139.64121765191928, 158.66380002261744, 116.16347642060177, 138.01275018200434, 118.13095374140283, 126.02245646770945, 92.28205709963737, 84.2568223450999, 75.79466664746319, 68.82775880543656, 54.53058560254231, 59.625329117246544, 50.64467057495647, 78.63910837682458, 47.53587530179381, 46.12106842610561, 49.11236878731905, 46.841394302647224, 7827.497294959209, 293.5237313693908, 293.5237313693908, 861.4993079100273, 151.28069998209375, 331.39246559087485, 146.88831983388286, 146.88831983388286, 146.8578792440886, 151.41019658896712, 217.43402639107043, 173.71509440176968, 262.6070770119484, 196.9920734581552, 185.95350854681803], \"Total\": [8803.0, 8566.0, 14329.0, 6619.0, 5090.0, 5680.0, 8913.0, 8782.0, 4486.0, 4294.0, 9087.0, 4786.0, 4544.0, 2639.0, 2766.0, 3100.0, 3038.0, 2832.0, 2802.0, 3614.0, 2651.0, 2057.0, 2549.0, 2452.0, 1779.0, 1599.0, 2686.0, 1976.0, 1419.0, 2142.0, 14329.689166288757, 8782.387390948947, 8913.664444929494, 3614.1543866540933, 2686.170176837474, 2112.9946309998027, 1961.146414148227, 1700.9807577877543, 1483.3683343869181, 1420.0052546765075, 1439.7122488155906, 1320.977950489675, 1231.4449978260136, 1195.9900169189764, 1131.5474325460602, 1033.7889897396842, 1014.6874321147998, 1196.7353184798053, 964.08514069152, 923.5075995774143, 927.7080565708623, 909.4938081626691, 892.4433742024958, 846.7318873989257, 817.2444520658931, 808.5099714071075, 792.3597606698197, 756.2304597977096, 735.7051794378868, 727.0813427709629, 9087.440539768695, 1623.8438051391065, 1693.170893988091, 893.958926864453, 2294.7736827102453, 1526.9497240399855, 1711.6371878268008, 1334.0281817346065, 4786.794492890821, 4544.090208371862, 3100.5052322886463, 3038.5279054209104, 2832.6229661296843, 2802.551186848639, 2651.0099049186656, 2549.538441253805, 1976.7272304904197, 1421.6729785303896, 1396.2393663540333, 1371.0429485532513, 1352.7576689966495, 1300.6858559707343, 1175.4697598059429, 1118.7393726470991, 1107.902811720525, 1089.3305351264726, 1033.3131408750378, 922.764413108404, 892.1581644186626, 786.5102432750425, 766.398054646455, 731.1169174979444, 701.6988406523685, 681.6979865859773, 680.7464566547948, 663.027959232648, 598.5905547202382, 2452.12801773447, 1642.2259914033566, 1618.1512192443606, 2142.5134530145565, 1153.144094097344, 1293.7558240129883, 1011.1333137782793, 1021.9308290295368, 2172.212751882624, 1479.6730938386102, 2766.3037549595147, 2057.777271913282, 1779.2923145490774, 5680.303943171393, 1040.0849137376497, 983.1133005180168, 937.6447070690888, 530.3794363553496, 501.2809237778514, 485.5454245435664, 481.1110402670554, 392.7583979239829, 394.3634432391156, 402.4641755776224, 371.51931252625474, 350.07129125621526, 346.96515657366245, 320.8975810856776, 300.549751391397, 382.38057065907594, 290.0541354472697, 276.57649655917857, 274.7730612656332, 266.90976878681425, 263.80428016921684, 272.81215720309916, 262.24589761675156, 265.3690958523753, 248.4907658073239, 243.68113827123017, 659.5012686593541, 812.8501317001692, 338.1169663614859, 388.1527740678172, 392.87494826135406, 404.7665214184058, 457.72079512060554, 668.5083024748094, 2172.212751882624, 1334.0281817346065, 4294.7320553263135, 1419.339209019378, 1270.4103448748162, 1023.9012575818701, 957.0416927032792, 950.8378813683977, 875.2507568956505, 818.4326172016957, 737.5989350071601, 654.1469710213801, 605.4753901040998, 592.4395321316674, 582.6137701747716, 574.7840390729835, 563.1828256099363, 538.2609991112048, 505.8429315547043, 475.0697633550994, 412.0109251716356, 406.62066432025614, 367.9215823149709, 366.88939825691006, 360.8627322825131, 355.37164302853233, 342.7178533024338, 339.02453574380667, 337.73318415531463, 313.9651871308303, 314.3063486842475, 297.2764784396923, 1599.7335055300282, 866.5985336676285, 413.4765501591423, 8566.644526921436, 5090.6797033554085, 4486.804573601776, 2639.77233595015, 1302.4199037736726, 1032.1041609881017, 989.3883387710179, 872.9053641049462, 774.807309315444, 615.8295013327745, 577.4928916964466, 593.0604537938251, 548.4403821131825, 523.7812457455261, 496.1941725381819, 472.5143074424122, 451.5836203385808, 404.25159477994487, 375.67994817208483, 351.0595388900065, 314.0544139102821, 303.3287087439804, 296.0877445434919, 291.64033389311436, 267.63476467035173, 267.1829363452925, 266.6557709287576, 251.52910694359073, 243.22831296568432, 237.58513071212622, 223.36993672130833, 6619.995723713349, 610.4670836610976, 453.6940779813024, 264.86089857144907, 473.91433226354036, 344.9045598609834, 1112.7149954982956, 2294.7736827102453, 1229.7845378462625, 8803.563934856653, 648.0096467245995, 313.8562986364985, 284.3024058904737, 265.49535825021627, 272.4960033282483, 261.1955388751161, 254.60522282887604, 238.2800563813985, 195.09882016426667, 165.88378737646227, 163.13657824837486, 140.3507692460569, 159.51080795378144, 116.86614458312307, 138.85481147112117, 118.85357282915794, 126.87583776197759, 92.9964685928529, 84.97453045833025, 76.49702364075256, 69.57028875026144, 55.23254640549159, 60.39710149803647, 51.34754267346353, 79.78692291033718, 48.24763560331874, 46.834300522339944, 49.89889071486142, 47.596956294439074, 8566.644526921436, 306.4362780306788, 306.4362780306788, 929.4735169010085, 158.29275221906096, 355.3252960201438, 153.5858934122901, 153.5858934122901, 153.6012177240784, 158.69331472375896, 245.51231017746792, 222.1058429960209, 505.434937131568, 384.8703075174853, 2172.212751882624], \"Category\": [\"Default\", \"Default\", \"Default\", \"Default\", \"Default\", \"Default\", \"Default\", \"Default\", \"Default\", \"Default\", \"Default\", \"Default\", \"Default\", \"Default\", \"Default\", \"Default\", \"Default\", \"Default\", \"Default\", \"Default\", \"Default\", \"Default\", \"Default\", \"Default\", \"Default\", \"Default\", \"Default\", \"Default\", \"Default\", \"Default\", \"Topic1\", \"Topic1\", \"Topic1\", \"Topic1\", \"Topic1\", \"Topic1\", \"Topic1\", \"Topic1\", \"Topic1\", \"Topic1\", \"Topic1\", \"Topic1\", \"Topic1\", \"Topic1\", \"Topic1\", \"Topic1\", \"Topic1\", \"Topic1\", \"Topic1\", \"Topic1\", \"Topic1\", \"Topic1\", \"Topic1\", \"Topic1\", \"Topic1\", \"Topic1\", \"Topic1\", \"Topic1\", \"Topic1\", \"Topic1\", \"Topic1\", \"Topic1\", \"Topic1\", \"Topic1\", \"Topic1\", \"Topic1\", \"Topic1\", \"Topic1\", \"Topic2\", \"Topic2\", \"Topic2\", \"Topic2\", \"Topic2\", \"Topic2\", \"Topic2\", \"Topic2\", \"Topic2\", \"Topic2\", \"Topic2\", \"Topic2\", \"Topic2\", \"Topic2\", \"Topic2\", \"Topic2\", \"Topic2\", \"Topic2\", \"Topic2\", \"Topic2\", \"Topic2\", \"Topic2\", \"Topic2\", \"Topic2\", \"Topic2\", \"Topic2\", \"Topic2\", \"Topic2\", \"Topic2\", \"Topic2\", \"Topic2\", \"Topic2\", \"Topic2\", \"Topic2\", \"Topic2\", \"Topic2\", \"Topic2\", \"Topic2\", \"Topic2\", \"Topic3\", \"Topic3\", \"Topic3\", \"Topic3\", \"Topic3\", \"Topic3\", \"Topic3\", \"Topic3\", \"Topic3\", \"Topic3\", \"Topic3\", \"Topic3\", \"Topic3\", \"Topic3\", \"Topic3\", \"Topic3\", \"Topic3\", \"Topic3\", \"Topic3\", \"Topic3\", \"Topic3\", \"Topic3\", \"Topic3\", \"Topic3\", \"Topic3\", \"Topic3\", \"Topic3\", \"Topic3\", \"Topic3\", \"Topic3\", \"Topic3\", \"Topic3\", \"Topic3\", \"Topic3\", \"Topic3\", \"Topic3\", \"Topic3\", \"Topic3\", \"Topic3\", \"Topic3\", \"Topic4\", \"Topic4\", \"Topic4\", \"Topic4\", \"Topic4\", \"Topic4\", \"Topic4\", \"Topic4\", \"Topic4\", \"Topic4\", \"Topic4\", \"Topic4\", \"Topic4\", \"Topic4\", \"Topic4\", \"Topic4\", \"Topic4\", \"Topic4\", \"Topic4\", \"Topic4\", \"Topic4\", \"Topic4\", \"Topic4\", \"Topic4\", \"Topic4\", \"Topic4\", \"Topic4\", \"Topic4\", \"Topic4\", \"Topic4\", \"Topic4\", \"Topic4\", \"Topic4\", \"Topic4\", \"Topic5\", \"Topic5\", \"Topic5\", \"Topic5\", \"Topic5\", \"Topic5\", \"Topic5\", \"Topic5\", \"Topic5\", \"Topic5\", \"Topic5\", \"Topic5\", \"Topic5\", \"Topic5\", \"Topic5\", \"Topic5\", \"Topic5\", \"Topic5\", \"Topic5\", \"Topic5\", \"Topic5\", \"Topic5\", \"Topic5\", \"Topic5\", \"Topic5\", \"Topic5\", \"Topic5\", \"Topic5\", \"Topic5\", \"Topic5\", \"Topic5\", \"Topic5\", \"Topic5\", \"Topic5\", \"Topic5\", \"Topic5\", \"Topic5\", \"Topic5\", \"Topic5\", \"Topic6\", \"Topic6\", \"Topic6\", \"Topic6\", \"Topic6\", \"Topic6\", \"Topic6\", \"Topic6\", \"Topic6\", \"Topic6\", \"Topic6\", \"Topic6\", \"Topic6\", \"Topic6\", \"Topic6\", \"Topic6\", \"Topic6\", \"Topic6\", \"Topic6\", \"Topic6\", \"Topic6\", \"Topic6\", \"Topic6\", \"Topic6\", \"Topic6\", \"Topic6\", \"Topic6\", \"Topic6\", \"Topic6\", \"Topic6\", \"Topic6\", \"Topic6\", \"Topic6\", \"Topic6\", \"Topic6\", \"Topic6\", \"Topic6\", \"Topic6\", \"Topic6\", \"Topic6\", \"Topic6\", \"Topic6\", \"Topic6\", \"Topic6\", \"Topic6\"], \"logprob\": [30.0, 29.0, 28.0, 27.0, 26.0, 25.0, 24.0, 23.0, 22.0, 21.0, 20.0, 19.0, 18.0, 17.0, 16.0, 15.0, 14.0, 13.0, 12.0, 11.0, 10.0, 9.0, 8.0, 7.0, 6.0, 5.0, 4.0, 3.0, 2.0, 1.0, -2.655, -3.1446, -3.1298, -4.0326, -4.3294, -4.5695, -4.6441, -4.7865, -4.9234, -4.9671, -4.9533, -5.0395, -5.1097, -5.1389, -5.1944, -5.2847, -5.3034, -5.1384, -5.3546, -5.3976, -5.3931, -5.4129, -5.4319, -5.4845, -5.52, -5.5307, -5.5509, -5.5976, -5.6252, -5.637, -3.1475, -4.8525, -4.8147, -5.4469, -4.7219, -5.1433, -5.1715, -5.2814, -3.3809, -3.4329, -3.8152, -3.8354, -3.9056, -3.9163, -3.9719, -4.0109, -4.2655, -4.5952, -4.6133, -4.6315, -4.6449, -4.6842, -4.7854, -4.8349, -4.8447, -4.8616, -4.9144, -5.0276, -5.0614, -5.1875, -5.2135, -5.2606, -5.3017, -5.3307, -5.3321, -5.3585, -5.4608, -4.0507, -4.4547, -4.4766, -4.2282, -4.8248, -4.7681, -4.9956, -5.0767, -4.8068, -5.0362, -3.5405, -3.8365, -3.982, -2.8213, -4.5191, -4.5755, -4.623, -5.1932, -5.2497, -5.2817, -5.2909, -5.494, -5.4899, -5.4697, -5.5497, -5.6093, -5.6183, -5.6964, -5.7621, -5.5213, -5.7977, -5.8454, -5.852, -5.881, -5.8928, -5.8592, -5.8987, -5.8869, -5.9527, -5.9723, -4.9778, -4.7848, -5.65, -5.5164, -5.5462, -5.5556, -5.5625, -5.587, -5.7239, -5.7721, -2.9417, -4.0493, -4.1602, -4.376, -4.4436, -4.4501, -4.533, -4.6002, -4.7043, -4.8245, -4.9018, -4.9236, -4.9404, -4.9539, -4.9743, -5.0197, -5.0819, -5.1447, -5.2874, -5.3005, -5.4007, -5.4035, -5.4201, -5.4355, -5.4718, -5.4827, -5.4865, -5.5596, -5.5586, -5.6144, -3.962, -4.573, -5.3347, -5.3356, -2.6213, -2.7476, -3.2782, -3.9849, -4.2177, -4.26, -4.3854, -4.5047, -4.7346, -4.7989, -4.7723, -4.8506, -4.8967, -4.9509, -4.9998, -5.0452, -5.1561, -5.2296, -5.2975, -5.4091, -5.444, -5.4682, -5.4834, -5.5695, -5.5712, -5.5732, -5.6317, -5.6654, -5.689, -5.7509, -2.3668, -4.7487, -5.0502, -5.5819, -5.0326, -5.3331, -4.9088, -4.9815, -5.3814, -1.3626, -3.9726, -4.6988, -4.7979, -4.8665, -4.8407, -4.8831, -4.9086, -4.975, -5.1756, -5.3388, -5.3558, -5.5064, -5.3787, -5.6905, -5.5181, -5.6737, -5.609, -5.9206, -6.0116, -6.1174, -6.2138, -6.4467, -6.3574, -6.5206, -6.0806, -6.584, -6.6142, -6.5513, -6.5987, -1.4801, -4.7635, -4.7635, -3.6868, -5.4263, -4.6421, -5.4558, -5.4558, -5.456, -5.4255, -5.0636, -5.288, -4.8748, -5.1623, -5.22], \"loglift\": [30.0, 29.0, 28.0, 27.0, 26.0, 25.0, 24.0, 23.0, 22.0, 21.0, 20.0, 19.0, 18.0, 17.0, 16.0, 15.0, 14.0, 13.0, 12.0, 11.0, 10.0, 9.0, 8.0, 7.0, 6.0, 5.0, 4.0, 3.0, 2.0, 1.0, 1.1215, 1.1214, 1.1214, 1.1213, 1.1213, 1.1212, 1.1212, 1.1211, 1.1211, 1.121, 1.121, 1.121, 1.1209, 1.1209, 1.1209, 1.1208, 1.1208, 1.1208, 1.1208, 1.1208, 1.1208, 1.1207, 1.1207, 1.1207, 1.1206, 1.1206, 1.1206, 1.1206, 1.1206, 1.1205, 1.0845, 1.1015, 1.0975, 1.104, 0.8862, 0.8723, 0.7299, 0.8692, 1.4921, 1.4921, 1.492, 1.492, 1.492, 1.492, 1.492, 1.492, 1.4919, 1.4918, 1.4918, 1.4918, 1.4918, 1.4917, 1.4917, 1.4917, 1.4917, 1.4917, 1.4916, 1.4916, 1.4915, 1.4914, 1.4914, 1.4914, 1.4913, 1.4913, 1.4913, 1.4913, 1.4912, 1.4912, 1.4881, 1.4809, 1.4486, 1.4715, 1.4132, 1.4321, 1.3404, 0.8563, 1.0107, 1.8808, 1.8807, 1.8806, 1.8805, 1.8804, 1.8803, 1.8802, 1.8798, 1.8797, 1.8796, 1.8796, 1.8794, 1.8794, 1.8793, 1.8792, 1.8791, 1.8791, 1.879, 1.8789, 1.8788, 1.8788, 1.8787, 1.8787, 1.8786, 1.8786, 1.8786, 1.8786, 1.8785, 1.8784, 1.8784, 1.8773, 1.8613, 1.8732, 1.8688, 1.8269, 1.7877, 1.6578, 1.2545, -0.0608, 0.3785, 2.0397, 2.0394, 2.0393, 2.0392, 2.0391, 2.0391, 2.0391, 2.039, 2.0389, 2.0388, 2.0387, 2.0387, 2.0387, 2.0386, 2.0386, 2.0386, 2.0385, 2.0384, 2.0382, 2.0382, 2.038, 2.038, 2.0379, 2.0379, 2.0378, 2.0378, 2.0378, 2.0376, 2.0376, 2.0375, 2.0069, 2.009, 1.9873, -1.0446, 2.1901, 2.19, 2.1899, 2.1897, 2.1895, 2.1895, 2.1894, 2.1893, 2.189, 2.189, 2.1889, 2.1889, 2.1888, 2.1887, 2.1887, 2.1886, 2.1884, 2.1883, 2.1881, 2.1879, 2.1878, 2.1877, 2.1876, 2.1875, 2.1875, 2.1874, 2.1873, 2.1872, 2.1871, 2.1868, 2.182, 2.1837, 2.1789, 2.1855, 2.1529, 2.1702, 1.4232, 0.6266, 0.8506, 2.901, 2.9, 2.8988, 2.8986, 2.8984, 2.8983, 2.8982, 2.8982, 2.8982, 2.8975, 2.8965, 2.8962, 2.896, 2.8958, 2.8951, 2.895, 2.895, 2.8944, 2.8934, 2.8926, 2.8919, 2.8904, 2.8883, 2.8883, 2.8873, 2.8866, 2.8863, 2.8858, 2.8852, 2.8851, 2.8109, 2.8581, 2.8581, 2.8252, 2.8558, 2.8314, 2.8565, 2.8565, 2.8562, 2.8541, 2.7797, 2.6554, 2.2464, 2.2314, 0.4431]}, \"token.table\": {\"Topic\": [1, 2, 4, 6, 1, 2, 4, 6, 6, 6, 4, 5, 6, 6, 4, 4, 4, 4, 4, 4, 4, 6, 6, 4, 6, 4, 4, 6, 4, 3, 4, 4, 3, 4, 4, 4, 4, 4, 4, 4, 4, 3, 1, 2, 6, 3, 3, 4, 6, 4, 3, 4, 4, 3, 3, 4, 4, 4, 3, 4, 4, 2, 3, 6, 6, 6, 6, 1, 3, 3, 1, 2, 3, 5, 1, 6, 2, 2, 3, 3, 5, 1, 2, 1, 2, 3, 5, 1, 1, 2, 1, 5, 2, 5, 6, 2, 5, 5, 1, 2, 1, 2, 5, 6, 3, 3, 1, 2, 1, 6, 5, 6, 5, 6, 2, 5, 5, 6, 1, 3, 3, 2, 5, 6, 5, 1, 5, 6, 1, 2, 3, 4, 5, 6, 6, 3, 3, 6, 2, 3, 1, 3, 2, 1, 2, 6, 1, 2, 4, 2, 5, 3, 2, 1, 3, 2, 6, 6, 6, 1, 2, 3, 4, 5, 1, 2, 1, 6, 1, 2, 2, 6, 6, 5, 5, 2, 5, 1, 2, 2, 3, 1, 1, 3, 5, 1, 1, 2, 3, 4, 5, 1, 1, 1, 2, 3, 4, 6, 6, 3, 2, 3, 1, 3, 1, 5, 1, 5, 1, 2, 5, 2, 2, 1, 3, 1, 2, 3, 4, 5, 6, 2, 5, 2, 5, 1, 2, 1, 3, 4, 2, 5, 2, 1, 1, 1, 2, 3, 2, 3, 5, 1, 1, 2, 4, 6, 1, 2, 3, 4, 5, 6, 3, 1, 3, 4, 5, 2, 5, 6, 5, 2, 5, 5, 5, 5, 1, 2, 3, 4, 5, 6, 1, 3, 5, 3, 1, 2, 3, 6, 2, 5, 1, 5, 5, 5, 2, 1, 1, 2, 5, 5, 5, 1, 1, 2, 6, 2, 1, 1, 3, 1, 2, 5, 5, 1, 2, 3, 4, 6, 1, 2, 4, 6, 1, 3, 4, 1, 2, 5, 1, 3, 1, 5, 1, 2, 4, 6, 6, 2, 5, 5, 2], \"Freq\": [0.026044058546850345, 0.006511014636712586, 0.006511014636712586, 0.9571191515967502, 0.026044058546850345, 0.006511014636712586, 0.006511014636712586, 0.9571191515967502, 0.9892848770718861, 0.9972716856720144, 0.9990699619386524, 0.9998206800433187, 0.9928182821194204, 0.9975007671996301, 0.9998295457511941, 0.999025318179127, 0.9969258148024287, 0.9996769981632535, 0.99921484818067, 0.9977481973435978, 0.9991197807647989, 0.9988246755282354, 0.9946722498295957, 0.9992580979022687, 0.9943678789890092, 0.9986359414672543, 0.9984736035949041, 0.9885314993436988, 0.9969779893907712, 0.998069047210724, 0.9975758409451579, 0.9983336100949092, 0.9996222759752034, 0.9994714076729067, 0.9995151067760143, 0.999761009195531, 0.9991187968161388, 0.997899748436655, 0.9974951664722349, 0.9982466157114674, 0.9991879936660235, 0.9992845945198082, 0.002151755766714336, 0.06993206241821592, 0.9263308575705218, 0.9989568988807357, 0.9972047969077031, 0.998946523054909, 0.9967976592913412, 0.99760925081663, 0.9988675765881407, 0.9975463631911836, 0.9989115492969415, 0.9998901946472906, 0.9962073330587541, 0.001516297310591711, 0.9997135027948563, 0.9989542130447856, 0.9965914743737203, 0.997905410250687, 0.9978291024106845, 0.9993391019703278, 0.9995943979064424, 0.00035209383512026856, 0.9935027061564291, 0.9957896852376795, 0.9930329650126385, 0.777344897355626, 0.22263397735257562, 0.9986021923793853, 0.003690717246640726, 0.0012302390822135753, 0.9805005485242195, 0.014762868986562904, 0.9993692453709384, 0.9874580994056374, 0.9998285635258527, 0.999696570401899, 0.9976906780887035, 0.9998357130266414, 0.9989115515989432, 0.9992367980820894, 0.9998340240233833, 0.0381800877515394, 0.00254533918343596, 0.9468661762381771, 0.01018135673374384, 0.9994154367364128, 0.9991722197468447, 0.9991851165003156, 0.5347281221221858, 0.46462930947423536, 0.9990040732407099, 0.48587796030875746, 0.5118607389348943, 0.9989761058420124, 0.9966425757334417, 0.9978043712796288, 0.05736137778239418, 0.9415177870489528, 0.09368165687241715, 0.008146231032384101, 0.008146231032384101, 0.8838660670136749, 0.9988766765867908, 0.9988466660990231, 0.38184109878909867, 0.6177040075986481, 0.9995162089274257, 0.997622897039772, 0.4787955525460754, 0.5203439269405695, 0.06472941909178373, 0.931540770407844, 0.9790623789161029, 0.019945469189610602, 0.9918435409980806, 0.008157104967087474, 0.9762747551763824, 0.023624313494891285, 0.996951223957773, 0.9997888083407206, 0.99914649737939, 0.9819857575592617, 0.9996775972384514, 0.7904918962891248, 0.20917095381410136, 0.993096890807368, 0.13028189791940414, 0.5294140728173666, 0.14363233975566816, 0.0009207201266388986, 0.11002605513334837, 0.08562697177741756, 0.9934251563703039, 0.9990784053508346, 0.9994395881340661, 0.9954228204652159, 0.9990134245928518, 0.9981708472928295, 0.999564369805173, 0.9990047332728753, 0.9995266291611695, 0.11706130576882572, 0.0945495161978977, 0.7834102770682951, 0.00040780905106410533, 0.9991321751070581, 0.00040780905106410533, 0.9984495989673834, 0.9976282428363387, 0.9972182896311735, 0.9996321037727399, 0.9994234162948263, 0.998609122696862, 0.9994399078164448, 0.9989363231396986, 0.9984419263976967, 0.9981342112589802, 0.008126353517670935, 0.005000832933951344, 0.018128019385573624, 0.9676611727195851, 0.001250208233487836, 0.04247347892820057, 0.9572868712279051, 0.9988744347924068, 0.9821861218586582, 0.6759610086930852, 0.3236667232635862, 0.01253338220755522, 0.9901371943968624, 0.9918026968048297, 0.9998664808247589, 0.9955725602784613, 0.004914269876777596, 0.9926825151090742, 0.9991356326485188, 0.9996003641931032, 0.9996969545216733, 0.9993124185907218, 0.9995459629732893, 0.031651290072524346, 0.004220172009669913, 0.9643093042095752, 0.9993855629825154, 0.5065928061602303, 0.03333917343911628, 0.19759558891964035, 0.0008131505716857629, 0.2618344840828156, 0.9999558900180894, 0.9996952518974557, 0.02936989072520639, 0.006526642383379197, 0.0032633211916895987, 0.0032633211916895987, 0.9594164303567421, 0.9938438469501725, 0.9963657286056474, 0.46521486546791097, 0.5340247812605924, 0.010305220694625588, 0.9867248815104, 0.9999254577134242, 0.9969818826363284, 0.9996805928771731, 0.9985084503275521, 0.9995031906613773, 0.003775566742367746, 0.9967496199850849, 0.9994726966795356, 0.9993512566690577, 0.999236767897134, 0.9972029047939818, 0.0011539368705919548, 0.0011539368705919548, 0.027694484894206912, 0.969306971297242, 0.9987076140225298, 0.9948674043769783, 0.99980332675056, 0.9996074961106776, 0.9236673395551054, 0.07574845127732245, 0.9803898595183059, 0.01970632883453881, 0.0024185168411971895, 0.04837033682394379, 0.9480586017492982, 0.9998262627702156, 0.9975371745261483, 0.9997600821458488, 0.9999519064034984, 0.99932251835093, 0.9995052839092141, 0.9996190489832604, 0.9990623395104128, 0.9998227170641142, 0.9116366608259233, 0.0889401620317974, 0.9995292789743947, 0.03150731339063408, 0.006301462678126818, 0.006301462678126818, 0.9515208643971494, 0.022412509284892475, 0.00023346363838429662, 0.0005836590959607416, 0.045758873123322136, 0.01727630924043795, 0.9136599488169448, 0.998025013904523, 0.0022041283951720696, 0.004408256790344139, 0.0022041283951720696, 0.9896536494322593, 0.8591579538057201, 0.13993119293191114, 0.9999359424364013, 0.9993776282315427, 0.9994806163141442, 0.9978964385075744, 0.9963262763706449, 0.9989580514977883, 0.997593336229498, 0.1288995401322197, 0.0021847379683427068, 0.7996140964134306, 0.048064235303539544, 0.019662641715084358, 0.0021847379683427068, 0.0059151128129481985, 0.9937389525752973, 0.9982118959592714, 0.997023016820711, 0.7793314876481408, 0.22004653768888682, 0.9969397911711898, 0.9925885757058837, 0.9998400837196538, 0.9989301845396644, 0.017396116776241952, 0.97998124506163, 0.9991970282868564, 0.9989628152808128, 0.9998370483999237, 0.9996386376762265, 0.9985127623178421, 0.9992393027845321, 0.9981900866005939, 0.9986530341093123, 0.9949499589471822, 0.9997516905421401, 0.9636376669181369, 0.036313855211029485, 0.993231561719055, 0.9991716053441755, 0.9992596769012589, 0.999041491812759, 0.9971865463736787, 0.9992920767911267, 0.9887827422873142, 0.011123805850732285, 0.9975407585349698, 0.02936989072520639, 0.006526642383379197, 0.0032633211916895987, 0.0032633211916895987, 0.9594164303567421, 0.026041460212805092, 0.006510365053201273, 0.006510365053201273, 0.9570236628205872, 0.9821480312071733, 0.0033558588765620957, 0.013423435506248383, 0.9994570516497889, 0.9955998800157939, 0.0036535775413423627, 0.9997008825630138, 0.9979155981569272, 0.9994503569026972, 0.998916328278515, 0.031587043183635546, 0.0063174086367271095, 0.0063174086367271095, 0.9539287041457936, 0.9981797776033771, 0.9989034733159495, 0.9997074232729725, 0.9983438383573977, 0.9997800744620328], \"Term\": [\"36zNeop\", \"36zNeop\", \"36zNeop\", \"36zNeop\", \"3IR7Mpu\", \"3IR7Mpu\", \"3IR7Mpu\", \"3IR7Mpu\", \"Alan\", \"Apple\", \"Au\", \"Banking\", \"Candy\", \"Card\", \"Chan\", \"Chau\", \"Cheng\", \"Cheung\", \"Chi\", \"Ching\", \"Chow\", \"Credit\", \"Deliveroo\", \"Ho\", \"Instagram\", \"Ka\", \"Kam\", \"Ken\", \"Kwan\", \"Kwok\", \"Kwong\", \"Lai\", \"Lam\", \"Lau\", \"Law\", \"Lee\", \"Leung\", \"Li\", \"Ling\", \"Ma\", \"Man\", \"Ming\", \"Mox\", \"Mox\", \"Mox\", \"Ng\", \"Poon\", \"Siu\", \"Smart\", \"Tam\", \"Wai\", \"Wan\", \"Wing\", \"Wong\", \"YNWA\", \"YNWA\", \"Yan\", \"Yee\", \"Yin\", \"Ying\", \"Yuen\", \"app\", \"banking\", \"banking\", \"card\", \"credit\", \"mox\", \"\\u4e00\\u500b\", \"\\u4e00\\u500b\", \"\\u4e0d\\u8981\", \"\\u4e2d\\u5c0f\", \"\\u4e2d\\u5c0f\", \"\\u4e2d\\u5c0f\", \"\\u4e2d\\u5c0f\", \"\\u4eba\\u6c11\\u5e63\", \"\\u4ef2\\u6703\", \"\\u4fe1\\u7528\\u5361\", \"\\u501f\\u5b9a\", \"\\u505a\\u5230\", \"\\u5065\\u5eb7\", \"\\u50f9\\u683c\", \"\\u512a\\u5148\", \"\\u512a\\u60e0\", \"\\u5132\\u5230\", \"\\u5132\\u5230\", \"\\u5132\\u5230\", \"\\u5132\\u5230\", \"\\u5132\\u84c4\", \"\\u5145\\u8db3\", \"\\u5148\\u597d\", \"\\u514c\\u63db\", \"\\u514c\\u63db\", \"\\u5168\\u65b0\", \"\\u5206\\u4eab\", \"\\u5206\\u4eab\", \"\\u5206\\u671f\", \"\\u5206\\u6790\", \"\\u5229\\u6f64\", \"\\u5229\\u7387\", \"\\u5229\\u7387\", \"\\u5238\\u4e59\\u5f35\", \"\\u5238\\u4e59\\u5f35\", \"\\u5238\\u4e59\\u5f35\", \"\\u5238\\u4e59\\u5f35\", \"\\u5275\\u610f\", \"\\u52a0\\u4e0a\", \"\\u5305\\u62ec\", \"\\u5305\\u62ec\", \"\\u532f\\u7387\", \"\\u5361\\u6578\", \"\\u53c3\\u52a0\", \"\\u53c3\\u52a0\", \"\\u53c3\\u8207\", \"\\u53c3\\u8207\", \"\\u53ef\\u4eab\", \"\\u53ef\\u4eab\", \"\\u554f\\u7b54\", \"\\u554f\\u7b54\", \"\\u554f\\u984c\", \"\\u554f\\u984c\", \"\\u559c\\u6b61\", \"\\u56de\\u8d08\", \"\\u57fa\\u91d1\", \"\\u590f\\u65e5\", \"\\u5916\\u532f\", \"\\u5916\\u5e63\", \"\\u5916\\u5e63\", \"\\u591a\\u8b1d\\u60a8\", \"\\u5927\\u65b0\", \"\\u5927\\u65b0\", \"\\u5927\\u65b0\", \"\\u5927\\u65b0\", \"\\u5927\\u65b0\", \"\\u5927\\u65b0\", \"\\u5929\\u5167\", \"\\u597d\\u4f3c\", \"\\u597d\\u591a\", \"\\u597d\\u597d\", \"\\u5b58\\u6b3e\", \"\\u5b78\\u7fd2\", \"\\u5ba2\\u6236\", \"\\u5be6\\u8e10\", \"\\u5be6\\u969b\", \"\\u5c07\\u4ee5\", \"\\u5c07\\u4ee5\", \"\\u5c07\\u4ee5\", \"\\u5c08\\u4eba\", \"\\u5c08\\u4eba\", \"\\u5c08\\u4eba\", \"\\u5de5\\u4f5c\", \"\\u5e02\\u5834\", \"\\u5e73\\u6642\", \"\\u5e74\\u5229\\u7387\", \"\\u5efa\\u8b70\", \"\\u5f88\\u591a\", \"\\u5f97\\u5230\", \"\\u5f97\\u734e\", \"\\u5f97\\u734e\\u8005\", \"\\u606d\\u559c\", \"\\u610f\\u98df\", \"\\u610f\\u98df\", \"\\u610f\\u98df\", \"\\u610f\\u98df\", \"\\u610f\\u98df\", \"\\u6210\\u529f\", \"\\u6210\\u529f\", \"\\u6211\\u6703\", \"\\u622a\\u6b62\", \"\\u6236\\u53e3\", \"\\u6236\\u53e3\", \"\\u6236\\u6236\", \"\\u6236\\u6236\", \"\\u6253\\u5361\", \"\\u6295\\u8cc7\", \"\\u6295\\u8cc7\\u8005\", \"\\u62ab\\u9732\", \"\\u62ab\\u9732\", \"\\u6301\\u7e8c\", \"\\u6307\\u5b9a\", \"\\u63a8\\u5ee3\", \"\\u63a8\\u85a6\", \"\\u63d0\\u4f9b\", \"\\u652f\\u51fa\", \"\\u652f\\u51fa\", \"\\u652f\\u51fa\", \"\\u6536\\u5165\", \"\\u6578\\u64da\\u5206\\u6790\", \"\\u6578\\u64da\\u5206\\u6790\", \"\\u6578\\u64da\\u5206\\u6790\", \"\\u6578\\u64da\\u5206\\u6790\", \"\\u6578\\u64da\\u5206\\u6790\", \"\\u65e5\\u5e38\", \"\\u6642\\u9593\", \"\\u667a\\u90f5\\u7ad9\", \"\\u667a\\u90f5\\u7ad9\", \"\\u667a\\u90f5\\u7ad9\", \"\\u667a\\u90f5\\u7ad9\", \"\\u667a\\u90f5\\u7ad9\", \"\\u6700\\u4f73\", \"\\u6700\\u597d\", \"\\u6700\\u5f8c\", \"\\u6700\\u5f8c\", \"\\u6709\\u71df\", \"\\u6709\\u71df\", \"\\u6709\\u734e\", \"\\u670b\\u53cb\", \"\\u670d\\u52d9\", \"\\u672a\\u4f86\", \"\\u672c\\u884c\", \"\\u6838\\u5fc3\", \"\\u6838\\u5fc3\", \"\\u6bcf\\u500b\", \"\\u6bcf\\u65e5\", \"\\u6bcf\\u6708\", \"\\u6bd4\\u8f03\", \"\\u6c99\\u5f8b\", \"\\u6c99\\u5f8b\", \"\\u6c99\\u5f8b\", \"\\u6c99\\u5f8b\", \"\\u6ce2\\u52d5\", \"\\u6d6a\\u8cbb\", \"\\u6d88\\u8cbb\", \"\\u6d89\\u53ca\", \"\\u6e2f\\u5e63\", \"\\u6e2f\\u5e63\", \"\\u6e96\\u5099\", \"\\u6e96\\u5099\", \"\\u725b\\u6cb9\\u679c\", \"\\u725b\\u6cb9\\u679c\", \"\\u725b\\u6cb9\\u679c\", \"\\u734e\\u8cde\", \"\\u7372\\u5229\", \"\\u73fe\\u91d1\", \"\\u7406\\u8ca1\", \"\\u751f\\u6d3b\", \"\\u7522\\u54c1\", \"\\u7533\\u8acb\", \"\\u75ab\\u60c5\", \"\\u767b\\u8a18\", \"\\u767c\\u5c55\", \"\\u767c\\u5c55\", \"\\u76ee\\u6a19\", \"\\u76f8\\u7b26\", \"\\u76f8\\u7b26\", \"\\u76f8\\u7b26\", \"\\u76f8\\u7b26\", \"\\u77e5\\u591a\\u5c11\", \"\\u77e5\\u591a\\u5c11\", \"\\u77e5\\u591a\\u5c11\", \"\\u77e5\\u591a\\u5c11\", \"\\u77e5\\u591a\\u5c11\", \"\\u77e5\\u591a\\u5c11\", \"\\u77e5\\u8b58\", \"\\u79d8\\u8a23\", \"\\u79d8\\u8a23\", \"\\u79d8\\u8a23\", \"\\u79d8\\u8a23\", \"\\u7acb\\u5373\", \"\\u7acb\\u5373\", \"\\u7b54\\u6848\", \"\\u7ba1\\u7406\", \"\\u7d2f\\u7a4d\", \"\\u7d44\\u5408\", \"\\u7d93\\u6fdf\", \"\\u8072\\u660e\", \"\\u80a1\\u7968\", \"\\u83dc\\u5f0f\", \"\\u83dc\\u5f0f\", \"\\u83dc\\u5f0f\", \"\\u83dc\\u5f0f\", \"\\u83dc\\u5f0f\", \"\\u83dc\\u5f0f\", \"\\u852c\\u83dc\", \"\\u852c\\u83dc\", \"\\u8667\\u640d\", \"\\u884c\\u52d5\", \"\\u8a08\\u5283\", \"\\u8a08\\u5283\", \"\\u8a8d\\u8b58\", \"\\u8acb\\u554f\", \"\\u8b1d\\u8b1d\", \"\\u8b49\\u5238\", \"\\u8b8a\\u52d5\", \"\\u8b8a\\u52d5\", \"\\u8ca1\\u5bcc\", \"\\u8cb7\\u8ce3\", \"\\u8cb8\\u6b3e\", \"\\u8cbc\\u5fc3\", \"\\u8cc7\\u6599\", \"\\u8cc7\\u683c\", \"\\u8cc7\\u7522\", \"\\u8cc7\\u91d1\", \"\\u8d70\\u52e2\", \"\\u8ddf\\u9032\", \"\\u8f15\\u9b06\", \"\\u8f15\\u9b06\", \"\\u8f49\\u6578\", \"\\u8fce\\u65b0\", \"\\u9000\\u4f11\", \"\\u900f\\u904e\", \"\\u904b\\u52d5\", \"\\u9078\\u64c7\", \"\\u9080\\u8acb\", \"\\u9080\\u8acb\", \"\\u90e8\\u7f72\", \"\\u90f5\\u653f\\u5c40\", \"\\u90f5\\u653f\\u5c40\", \"\\u90f5\\u653f\\u5c40\", \"\\u90f5\\u653f\\u5c40\", \"\\u90f5\\u653f\\u5c40\", \"\\u90f5\\u905e\", \"\\u90f5\\u905e\", \"\\u90f5\\u905e\", \"\\u90f5\\u905e\", \"\\u914d\\u5957\", \"\\u914d\\u5957\", \"\\u914d\\u5957\", \"\\u91d1\\u984d\", \"\\u958b\\u6236\", \"\\u958b\\u6236\", \"\\u958b\\u652f\", \"\\u96fb\\u8a71\", \"\\u9700\\u8981\", \"\\u9805\\u76ee\", \"\\u9818\\u4ef6\", \"\\u9818\\u4ef6\", \"\\u9818\\u4ef6\", \"\\u9818\\u4ef6\", \"\\u9818\\u734e\", \"\\u984d\\u5916\", \"\\u98a8\\u96aa\", \"\\u9ad8\\u606f\", \"\\u9ad8\\u9054\"]}, \"R\": 30, \"lambda.step\": 0.01, \"plot.opts\": {\"xlab\": \"PC1\", \"ylab\": \"PC2\"}, \"topic.order\": [3, 2, 4, 5, 6, 1]};\n",
       "\n",
       "function LDAvis_load_lib(url, callback){\n",
       "  var s = document.createElement('script');\n",
       "  s.src = url;\n",
       "  s.async = true;\n",
       "  s.onreadystatechange = s.onload = callback;\n",
       "  s.onerror = function(){console.warn(\"failed to load library \" + url);};\n",
       "  document.getElementsByTagName(\"head\")[0].appendChild(s);\n",
       "}\n",
       "\n",
       "if(typeof(LDAvis) !== \"undefined\"){\n",
       "   // already loaded: just create the visualization\n",
       "   !function(LDAvis){\n",
       "       new LDAvis(\"#\" + \"ldavis_el29002443723857696311442702\", ldavis_el29002443723857696311442702_data);\n",
       "   }(LDAvis);\n",
       "}else if(typeof define === \"function\" && define.amd){\n",
       "   // require.js is available: use it to load d3/LDAvis\n",
       "   require.config({paths: {d3: \"https://d3js.org/d3.v5\"}});\n",
       "   require([\"d3\"], function(d3){\n",
       "      window.d3 = d3;\n",
       "      LDAvis_load_lib(\"https://cdn.jsdelivr.net/gh/bmabey/pyLDAvis@3.3.1/pyLDAvis/js/ldavis.v3.0.0.js\", function(){\n",
       "        new LDAvis(\"#\" + \"ldavis_el29002443723857696311442702\", ldavis_el29002443723857696311442702_data);\n",
       "      });\n",
       "    });\n",
       "}else{\n",
       "    // require.js not available: dynamically load d3 & LDAvis\n",
       "    LDAvis_load_lib(\"https://d3js.org/d3.v5.js\", function(){\n",
       "         LDAvis_load_lib(\"https://cdn.jsdelivr.net/gh/bmabey/pyLDAvis@3.3.1/pyLDAvis/js/ldavis.v3.0.0.js\", function(){\n",
       "                 new LDAvis(\"#\" + \"ldavis_el29002443723857696311442702\", ldavis_el29002443723857696311442702_data);\n",
       "            })\n",
       "         });\n",
       "}\n",
       "</script>"
      ],
      "text/plain": [
       "PreparedData(topic_coordinates=              x         y  topics  cluster       Freq\n",
       "topic                                                \n",
       "2     -0.194476  0.329305       1        1  32.578072\n",
       "1      0.363150  0.015422       2        1  22.487495\n",
       "3     -0.349115 -0.014121       3        1  15.243956\n",
       "4      0.184448 -0.350107       4        1  13.005045\n",
       "5      0.172898  0.328651       5        1  11.189259\n",
       "0     -0.176906 -0.309150       6        1   5.496172, topic_info=      Term          Freq         Total Category  logprob  loglift\n",
       "11242   答案   8803.000000   8803.000000  Default  30.0000  30.0000\n",
       "49045  知多少   8566.000000   8566.000000  Default  29.0000  29.0000\n",
       "219     理財  14329.000000  14329.000000  Default  28.0000  28.0000\n",
       "15735   問答   6619.000000   6619.000000  Default  27.0000  27.0000\n",
       "140     投資   5090.000000   5090.000000  Default  26.0000  26.0000\n",
       "...    ...           ...           ...      ...      ...      ...\n",
       "39587  券乙張    217.434026    245.512310   Topic6  -5.0636   2.7797\n",
       "4848    將以    173.715094    222.105843   Topic6  -5.2880   2.6554\n",
       "103     參加    262.607077    505.434937   Topic6  -4.8748   2.2464\n",
       "101     分享    196.992073    384.870308   Topic6  -5.1623   2.2314\n",
       "48774   大新    185.953509   2172.212752   Topic6  -5.2200   0.4431\n",
       "\n",
       "[265 rows x 6 columns], token_table=       Topic      Freq     Term\n",
       "term                           \n",
       "47132      1  0.026044  36zNeop\n",
       "47132      2  0.006511  36zNeop\n",
       "47132      4  0.006511  36zNeop\n",
       "47132      6  0.957119  36zNeop\n",
       "47133      1  0.026044  3IR7Mpu\n",
       "...      ...       ...      ...\n",
       "3621       6  0.998180       領獎\n",
       "157        2  0.998903       額外\n",
       "158        5  0.999707       風險\n",
       "4166       5  0.998344       高息\n",
       "159        2  0.999780       高達\n",
       "\n",
       "[333 rows x 3 columns], R=30, lambda_step=0.01, plot_opts={'xlab': 'PC1', 'ylab': 'PC2'}, topic_order=[3, 2, 4, 5, 6, 1])"
      ]
     },
     "execution_count": 151,
     "metadata": {},
     "output_type": "execute_result"
    }
   ],
   "source": [
    "pyLDAvis.enable_notebook()\n",
    "p = pyLDAvis.gensim_models.prepare(lda, corpus, dictionary, mds='mmds')\n",
    "p"
   ]
  },
  {
   "cell_type": "code",
   "execution_count": 152,
   "id": "4f2c97dc",
   "metadata": {},
   "outputs": [],
   "source": [
    "pyLDAvis.save_html(p, f'Test_LDA_TopicModelling/LDA_{bank_abbev}_{dt_now}.html')"
   ]
  },
  {
   "cell_type": "code",
   "execution_count": null,
   "id": "80764af0",
   "metadata": {},
   "outputs": [],
   "source": []
  },
  {
   "cell_type": "code",
   "execution_count": null,
   "id": "525ba4e1",
   "metadata": {},
   "outputs": [],
   "source": []
  },
  {
   "cell_type": "markdown",
   "id": "226080b2",
   "metadata": {},
   "source": [
    "<b>Cantonese Stopwords</b>"
   ]
  },
  {
   "cell_type": "code",
   "execution_count": null,
   "id": "a00a7bca",
   "metadata": {},
   "outputs": [],
   "source": [
    "# Stopwords\n",
    "# Cantonese\n",
    "stop_words = pycantonese.stop_words()\n",
    "\n",
    "# TC Stopwords\n",
    "tc_stopwords = pd.read_csv(\"tc_stopwords.txt\", header=None)\n",
    "tc_stopwords = set(tc_stopwords[0])\n",
    "\n",
    "# Eng Stopwords\n",
    "eng_stopwords = stopwords.words('english')\n",
    "\n",
    "# Additional stopwords\n",
    "add_stopwd = set([\"HKD\", \"ZA\", \"ZABank\", \"ZA Bank\", \"Bank\", \"BEA\", \"HSBC\", \"ICBC\", \"DBS\", \"SC\", \"HK\", \"Hong\", \"Kong\", \"com\", \"bit\", \"亞銀\", \"閣下\",\n",
    "                  \"香港\", \"眾安\", \"星展\", \"渣打\", \"東亞\", \"東亞銀行\", \"匯豐\", \"工銀\", \"有限公司\", \"銀行\", \"DBSHK\", \"html\", \"conditions\", \"terms\", \"ly\",\n",
    "                  'bank', 'bea', 'dbs', 'dbshk', 'hk', 'hkd', 'hong', 'hsbc', 'icbc', 'kong', 'sc', 'za', 'zabank', \"condition\", \"term\", '若果',\n",
    "                  \"grp\"])\n",
    "\n",
    "# Combine stopwords\n",
    "tc_stopwords_union = tc_stopwords.union(stop_words, add_stopwd, eng_stopwords)"
   ]
  },
  {
   "cell_type": "code",
   "execution_count": null,
   "id": "0562d880",
   "metadata": {},
   "outputs": [],
   "source": [
    "pd.DataFrame(tc_stopwords_union).to_csv('tc_stopwords_union.txt', index=False)"
   ]
  },
  {
   "cell_type": "markdown",
   "id": "2ba54647",
   "metadata": {},
   "source": [
    "<b>Word Tokenization using Jieba</b>"
   ]
  },
  {
   "cell_type": "code",
   "execution_count": null,
   "id": "16108bad",
   "metadata": {},
   "outputs": [],
   "source": [
    "jieba.set_dictionary('dict.txt.big.txt')"
   ]
  },
  {
   "cell_type": "code",
   "execution_count": null,
   "id": "37072446",
   "metadata": {},
   "outputs": [],
   "source": [
    "def chinese_word_cut(mytext):\n",
    "    # Jieba - Word tokenization\n",
    "    word_list = jieba.lcut(mytext, cut_all=True)\n",
    "    word_list = [word for word in word_list if len(word.strip())>1]\n",
    "    word_list = [i for i in word_list if not i.isdigit()]\n",
    "    word_list = \" \".join(word_list)\n",
    "    \n",
    "    # Remove punctuation marks\n",
    "    word_list = word_list.translate(str.maketrans('', '', string.punctuation)) # English\n",
    "    word_list = word_list.translate(str.maketrans('', '', punctuation)) # Chinese\n",
    "    \n",
    "    # Remove emojis\n",
    "    word_list = emoji.get_emoji_regexp().sub(u'', word_list)\n",
    "    return word_list\n",
    "\n",
    "df[\"content_cutted\"] = df.message.apply(chinese_word_cut)\n",
    "df.content_cutted.head()"
   ]
  },
  {
   "cell_type": "markdown",
   "id": "8a16260a",
   "metadata": {},
   "source": [
    "<b>Train Gensim LDA model</b>"
   ]
  },
  {
   "cell_type": "code",
   "execution_count": null,
   "id": "4cf0fdfb",
   "metadata": {},
   "outputs": [],
   "source": [
    "df.content_cutted[0]"
   ]
  },
  {
   "cell_type": "markdown",
   "id": "ddaf53ec",
   "metadata": {},
   "source": [
    "<b>Word Vectorization using TFIDF</b>"
   ]
  },
  {
   "cell_type": "code",
   "execution_count": null,
   "id": "97792760",
   "metadata": {},
   "outputs": [],
   "source": [
    "# Avoid extracting ALL keywords from the text\n",
    "n_features = 1000\n",
    "tf_vectorizer = CountVectorizer(strip_accents='unicode',\n",
    "                                max_features=n_features,\n",
    "                                stop_words=tc_stopwords_union,\n",
    "                                # Ignore terms that have a document frequency > or < than the threshold\n",
    "                                max_df = 0.5,\n",
    "                                min_df = 10)\n",
    "tf = tf_vectorizer.fit_transform(df.content_cutted)"
   ]
  },
  {
   "cell_type": "markdown",
   "id": "4103d743",
   "metadata": {},
   "source": [
    "<b>Apply LDA to train the model</b>"
   ]
  },
  {
   "cell_type": "code",
   "execution_count": null,
   "id": "85aa7ea4",
   "metadata": {},
   "outputs": [],
   "source": [
    "from gensim.models.ldamodel import LdaModel\n",
    "lda = LdaModel(tf, num_topics=10)"
   ]
  },
  {
   "cell_type": "code",
   "execution_count": null,
   "id": "173d7f87",
   "metadata": {},
   "outputs": [],
   "source": [
    "# Need to self define no. of topics\n",
    "n_topics = 7\n",
    "lda = LatentDirichletAllocation(n_components=n_topics, \n",
    "                                max_iter=50,\n",
    "                                learning_method='online',\n",
    "                                learning_offset=50.,\n",
    "                                random_state=0)\n",
    "lda.fit(tf)"
   ]
  },
  {
   "cell_type": "code",
   "execution_count": null,
   "id": "222a125d",
   "metadata": {},
   "outputs": [],
   "source": [
    "# Print top words of each topics\n",
    "def print_top_words(model, feature_names, n_top_words):\n",
    "    print(bank_abbev, \"Bank Topics:\\n\")\n",
    "    for topic_idx, topic in enumerate(model.components_):\n",
    "        print(\"Topic #%d:\" % topic_idx)\n",
    "        print(\" \".join([feature_names[i]\n",
    "                        for i in topic.argsort()[:-n_top_words - 1:-1]]))\n",
    "    print()"
   ]
  },
  {
   "cell_type": "code",
   "execution_count": null,
   "id": "f4b8b677",
   "metadata": {},
   "outputs": [],
   "source": [
    "# Set how many top words to get for each topic\n",
    "n_top_words = 20\n",
    "\n",
    "tf_feature_names = tf_vectorizer.get_feature_names_out()\n",
    "print_top_words(lda, tf_feature_names, n_top_words)"
   ]
  },
  {
   "cell_type": "code",
   "execution_count": null,
   "id": "e03b02aa",
   "metadata": {},
   "outputs": [],
   "source": [
    "lda.components_[1]"
   ]
  },
  {
   "cell_type": "code",
   "execution_count": null,
   "id": "9d3234f1",
   "metadata": {},
   "outputs": [],
   "source": [
    "# index\n",
    "dt_now = str(dt.datetime.now())\n",
    "dt_now = dt_now.replace(\"-\",\"\").replace(\":\",\"\").replace(\" \",\"\")\n",
    "dt_now = dt_now[0:14]\n",
    "\n",
    "pyLDAvis.enable_notebook()\n",
    "p = pyLDAvis.sklearn.prepare(lda, tf, tf_vectorizer)\n",
    "p"
   ]
  },
  {
   "cell_type": "code",
   "execution_count": null,
   "id": "a0d850bf",
   "metadata": {},
   "outputs": [],
   "source": [
    "pyLDAvis.save_html(p, f'Test_LDA_TopicModelling/LDA_{bank_abbev}_{dt_now}.html')"
   ]
  },
  {
   "cell_type": "code",
   "execution_count": null,
   "id": "70e64c53",
   "metadata": {},
   "outputs": [],
   "source": []
  },
  {
   "cell_type": "code",
   "execution_count": null,
   "id": "3293b807",
   "metadata": {},
   "outputs": [],
   "source": []
  },
  {
   "cell_type": "code",
   "execution_count": null,
   "id": "04e5888c",
   "metadata": {},
   "outputs": [],
   "source": []
  },
  {
   "cell_type": "code",
   "execution_count": null,
   "id": "bafd66a8",
   "metadata": {},
   "outputs": [],
   "source": []
  },
  {
   "cell_type": "code",
   "execution_count": null,
   "id": "c4e1ba61",
   "metadata": {},
   "outputs": [],
   "source": []
  },
  {
   "cell_type": "code",
   "execution_count": null,
   "id": "c40e9530",
   "metadata": {},
   "outputs": [],
   "source": []
  },
  {
   "cell_type": "code",
   "execution_count": null,
   "id": "a7d61370",
   "metadata": {},
   "outputs": [],
   "source": []
  },
  {
   "cell_type": "code",
   "execution_count": null,
   "id": "4a96337d",
   "metadata": {},
   "outputs": [],
   "source": []
  },
  {
   "cell_type": "markdown",
   "id": "707264a7",
   "metadata": {},
   "source": [
    "## End"
   ]
  }
 ],
 "metadata": {
  "kernelspec": {
   "display_name": "Python 3 (ipykernel)",
   "language": "python",
   "name": "python3"
  },
  "language_info": {
   "codemirror_mode": {
    "name": "ipython",
    "version": 3
   },
   "file_extension": ".py",
   "mimetype": "text/x-python",
   "name": "python",
   "nbconvert_exporter": "python",
   "pygments_lexer": "ipython3",
   "version": "3.9.7"
  },
  "toc": {
   "base_numbering": 1,
   "nav_menu": {},
   "number_sections": false,
   "sideBar": true,
   "skip_h1_title": false,
   "title_cell": "Table of Contents",
   "title_sidebar": "Contents",
   "toc_cell": false,
   "toc_position": {
    "height": "calc(100% - 180px)",
    "left": "10px",
    "top": "150px",
    "width": "165px"
   },
   "toc_section_display": true,
   "toc_window_display": true
  },
  "varInspector": {
   "cols": {
    "lenName": 16,
    "lenType": 16,
    "lenVar": 40
   },
   "kernels_config": {
    "python": {
     "delete_cmd_postfix": "",
     "delete_cmd_prefix": "del ",
     "library": "var_list.py",
     "varRefreshCmd": "print(var_dic_list())"
    },
    "r": {
     "delete_cmd_postfix": ") ",
     "delete_cmd_prefix": "rm(",
     "library": "var_list.r",
     "varRefreshCmd": "cat(var_dic_list()) "
    }
   },
   "types_to_exclude": [
    "module",
    "function",
    "builtin_function_or_method",
    "instance",
    "_Feature"
   ],
   "window_display": false
  }
 },
 "nbformat": 4,
 "nbformat_minor": 5
}
